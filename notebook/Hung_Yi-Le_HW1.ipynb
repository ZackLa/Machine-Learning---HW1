{
 "cells": [
  {
   "cell_type": "markdown",
   "id": "daf38099",
   "metadata": {},
   "source": [
    "## HW1\n",
    "\n",
    "## Student Name: Hung Yi-Le\n",
    "\n",
    "## GITHUB: ZackLa"
   ]
  },
  {
   "cell_type": "markdown",
   "id": "e764cba6",
   "metadata": {},
   "source": [
    "Vertebral Column Data Set\n",
    "This Biomedical data set was built by Dr. Henrique da Mota during a medical residence period in Lyon, France. Each patient in the data set is represented in the data set by six biomechanical attributes derived from the shape and orientation of the pelvis and lumbar spine (in this order): pelvic incidence, pelvic tilt, lumbar lordosis angle, sacral slope, pelvic radius and grade of spondylolisthesis. The following convention is used for the class labels: DH (Disk Hernia), Spondylolisthesis (SL), Normal (NO) and Abnormal (AB). In this exercise, we only focus on a binary classification task NO=0 and AB=1."
   ]
  },
  {
   "cell_type": "code",
   "execution_count": 84,
   "id": "8750253d",
   "metadata": {},
   "outputs": [],
   "source": [
    "import pandas as pd\n",
    "import numpy as np\n",
    "import matplotlib.pyplot as plt\n",
    "from scipy.io import arff\n",
    "import seaborn as sns\n",
    "from sklearn.neighbors import NearestNeighbors\n",
    "from sklearn.metrics import confusion_matrix\n",
    "from sklearn.metrics import accuracy_score\n",
    "from sklearn.neighbors import KNeighborsClassifier\n",
    "from sklearn.metrics import precision_score\n",
    "from sklearn.neighbors import DistanceMetric\n",
    "from sklearn.metrics import f1_score\n",
    "from sklearn.metrics.pairwise import euclidean_distances"
   ]
  },
  {
   "cell_type": "code",
   "execution_count": 83,
   "id": "caafea18",
   "metadata": {},
   "outputs": [
    {
     "ename": "FileNotFoundError",
     "evalue": "[Errno 2] No such file or directory: 'Folds5x2_pp.ods'",
     "output_type": "error",
     "traceback": [
      "\u001b[0;31m---------------------------------------------------------------------------\u001b[0m",
      "\u001b[0;31mFileNotFoundError\u001b[0m                         Traceback (most recent call last)",
      "\u001b[0;32m<ipython-input-83-598a0d85f9de>\u001b[0m in \u001b[0;36m<module>\u001b[0;34m\u001b[0m\n\u001b[1;32m      1\u001b[0m \u001b[0;31m#read arff file\u001b[0m\u001b[0;34m\u001b[0m\u001b[0;34m\u001b[0m\u001b[0;34m\u001b[0m\u001b[0m\n\u001b[0;32m----> 2\u001b[0;31m \u001b[0mdata1\u001b[0m \u001b[0;34m=\u001b[0m \u001b[0mpd\u001b[0m\u001b[0;34m.\u001b[0m\u001b[0mread_excel\u001b[0m\u001b[0;34m(\u001b[0m\u001b[0;34m\"Folds5x2_pp.ods\"\u001b[0m\u001b[0;34m,\u001b[0m \u001b[0msheet_name\u001b[0m \u001b[0;34m=\u001b[0m \u001b[0;34m\"sheet1\"\u001b[0m\u001b[0;34m)\u001b[0m\u001b[0;34m\u001b[0m\u001b[0;34m\u001b[0m\u001b[0m\n\u001b[0m",
      "\u001b[0;32m~/opt/anaconda3/lib/python3.8/site-packages/pandas/util/_decorators.py\u001b[0m in \u001b[0;36mwrapper\u001b[0;34m(*args, **kwargs)\u001b[0m\n\u001b[1;32m    297\u001b[0m                 )\n\u001b[1;32m    298\u001b[0m                 \u001b[0mwarnings\u001b[0m\u001b[0;34m.\u001b[0m\u001b[0mwarn\u001b[0m\u001b[0;34m(\u001b[0m\u001b[0mmsg\u001b[0m\u001b[0;34m,\u001b[0m \u001b[0mFutureWarning\u001b[0m\u001b[0;34m,\u001b[0m \u001b[0mstacklevel\u001b[0m\u001b[0;34m=\u001b[0m\u001b[0mstacklevel\u001b[0m\u001b[0;34m)\u001b[0m\u001b[0;34m\u001b[0m\u001b[0;34m\u001b[0m\u001b[0m\n\u001b[0;32m--> 299\u001b[0;31m             \u001b[0;32mreturn\u001b[0m \u001b[0mfunc\u001b[0m\u001b[0;34m(\u001b[0m\u001b[0;34m*\u001b[0m\u001b[0margs\u001b[0m\u001b[0;34m,\u001b[0m \u001b[0;34m**\u001b[0m\u001b[0mkwargs\u001b[0m\u001b[0;34m)\u001b[0m\u001b[0;34m\u001b[0m\u001b[0;34m\u001b[0m\u001b[0m\n\u001b[0m\u001b[1;32m    300\u001b[0m \u001b[0;34m\u001b[0m\u001b[0m\n\u001b[1;32m    301\u001b[0m         \u001b[0;32mreturn\u001b[0m \u001b[0mwrapper\u001b[0m\u001b[0;34m\u001b[0m\u001b[0;34m\u001b[0m\u001b[0m\n",
      "\u001b[0;32m~/opt/anaconda3/lib/python3.8/site-packages/pandas/io/excel/_base.py\u001b[0m in \u001b[0;36mread_excel\u001b[0;34m(io, sheet_name, header, names, index_col, usecols, squeeze, dtype, engine, converters, true_values, false_values, skiprows, nrows, na_values, keep_default_na, na_filter, verbose, parse_dates, date_parser, thousands, comment, skipfooter, convert_float, mangle_dupe_cols, storage_options)\u001b[0m\n\u001b[1;32m    334\u001b[0m     \u001b[0;32mif\u001b[0m \u001b[0;32mnot\u001b[0m \u001b[0misinstance\u001b[0m\u001b[0;34m(\u001b[0m\u001b[0mio\u001b[0m\u001b[0;34m,\u001b[0m \u001b[0mExcelFile\u001b[0m\u001b[0;34m)\u001b[0m\u001b[0;34m:\u001b[0m\u001b[0;34m\u001b[0m\u001b[0;34m\u001b[0m\u001b[0m\n\u001b[1;32m    335\u001b[0m         \u001b[0mshould_close\u001b[0m \u001b[0;34m=\u001b[0m \u001b[0;32mTrue\u001b[0m\u001b[0;34m\u001b[0m\u001b[0;34m\u001b[0m\u001b[0m\n\u001b[0;32m--> 336\u001b[0;31m         \u001b[0mio\u001b[0m \u001b[0;34m=\u001b[0m \u001b[0mExcelFile\u001b[0m\u001b[0;34m(\u001b[0m\u001b[0mio\u001b[0m\u001b[0;34m,\u001b[0m \u001b[0mstorage_options\u001b[0m\u001b[0;34m=\u001b[0m\u001b[0mstorage_options\u001b[0m\u001b[0;34m,\u001b[0m \u001b[0mengine\u001b[0m\u001b[0;34m=\u001b[0m\u001b[0mengine\u001b[0m\u001b[0;34m)\u001b[0m\u001b[0;34m\u001b[0m\u001b[0;34m\u001b[0m\u001b[0m\n\u001b[0m\u001b[1;32m    337\u001b[0m     \u001b[0;32melif\u001b[0m \u001b[0mengine\u001b[0m \u001b[0;32mand\u001b[0m \u001b[0mengine\u001b[0m \u001b[0;34m!=\u001b[0m \u001b[0mio\u001b[0m\u001b[0;34m.\u001b[0m\u001b[0mengine\u001b[0m\u001b[0;34m:\u001b[0m\u001b[0;34m\u001b[0m\u001b[0;34m\u001b[0m\u001b[0m\n\u001b[1;32m    338\u001b[0m         raise ValueError(\n",
      "\u001b[0;32m~/opt/anaconda3/lib/python3.8/site-packages/pandas/io/excel/_base.py\u001b[0m in \u001b[0;36m__init__\u001b[0;34m(self, path_or_buffer, engine, storage_options)\u001b[0m\n\u001b[1;32m   1069\u001b[0m                 \u001b[0mext\u001b[0m \u001b[0;34m=\u001b[0m \u001b[0;34m\"xls\"\u001b[0m\u001b[0;34m\u001b[0m\u001b[0;34m\u001b[0m\u001b[0m\n\u001b[1;32m   1070\u001b[0m             \u001b[0;32melse\u001b[0m\u001b[0;34m:\u001b[0m\u001b[0;34m\u001b[0m\u001b[0;34m\u001b[0m\u001b[0m\n\u001b[0;32m-> 1071\u001b[0;31m                 ext = inspect_excel_format(\n\u001b[0m\u001b[1;32m   1072\u001b[0m                     \u001b[0mcontent\u001b[0m\u001b[0;34m=\u001b[0m\u001b[0mpath_or_buffer\u001b[0m\u001b[0;34m,\u001b[0m \u001b[0mstorage_options\u001b[0m\u001b[0;34m=\u001b[0m\u001b[0mstorage_options\u001b[0m\u001b[0;34m\u001b[0m\u001b[0;34m\u001b[0m\u001b[0m\n\u001b[1;32m   1073\u001b[0m                 )\n",
      "\u001b[0;32m~/opt/anaconda3/lib/python3.8/site-packages/pandas/io/excel/_base.py\u001b[0m in \u001b[0;36minspect_excel_format\u001b[0;34m(path, content, storage_options)\u001b[0m\n\u001b[1;32m    947\u001b[0m     \u001b[0;32massert\u001b[0m \u001b[0mcontent_or_path\u001b[0m \u001b[0;32mis\u001b[0m \u001b[0;32mnot\u001b[0m \u001b[0;32mNone\u001b[0m\u001b[0;34m\u001b[0m\u001b[0;34m\u001b[0m\u001b[0m\n\u001b[1;32m    948\u001b[0m \u001b[0;34m\u001b[0m\u001b[0m\n\u001b[0;32m--> 949\u001b[0;31m     with get_handle(\n\u001b[0m\u001b[1;32m    950\u001b[0m         \u001b[0mcontent_or_path\u001b[0m\u001b[0;34m,\u001b[0m \u001b[0;34m\"rb\"\u001b[0m\u001b[0;34m,\u001b[0m \u001b[0mstorage_options\u001b[0m\u001b[0;34m=\u001b[0m\u001b[0mstorage_options\u001b[0m\u001b[0;34m,\u001b[0m \u001b[0mis_text\u001b[0m\u001b[0;34m=\u001b[0m\u001b[0;32mFalse\u001b[0m\u001b[0;34m\u001b[0m\u001b[0;34m\u001b[0m\u001b[0m\n\u001b[1;32m    951\u001b[0m     ) as handle:\n",
      "\u001b[0;32m~/opt/anaconda3/lib/python3.8/site-packages/pandas/io/common.py\u001b[0m in \u001b[0;36mget_handle\u001b[0;34m(path_or_buf, mode, encoding, compression, memory_map, is_text, errors, storage_options)\u001b[0m\n\u001b[1;32m    649\u001b[0m         \u001b[0;32melse\u001b[0m\u001b[0;34m:\u001b[0m\u001b[0;34m\u001b[0m\u001b[0;34m\u001b[0m\u001b[0m\n\u001b[1;32m    650\u001b[0m             \u001b[0;31m# Binary mode\u001b[0m\u001b[0;34m\u001b[0m\u001b[0;34m\u001b[0m\u001b[0;34m\u001b[0m\u001b[0m\n\u001b[0;32m--> 651\u001b[0;31m             \u001b[0mhandle\u001b[0m \u001b[0;34m=\u001b[0m \u001b[0mopen\u001b[0m\u001b[0;34m(\u001b[0m\u001b[0mhandle\u001b[0m\u001b[0;34m,\u001b[0m \u001b[0mioargs\u001b[0m\u001b[0;34m.\u001b[0m\u001b[0mmode\u001b[0m\u001b[0;34m)\u001b[0m\u001b[0;34m\u001b[0m\u001b[0;34m\u001b[0m\u001b[0m\n\u001b[0m\u001b[1;32m    652\u001b[0m         \u001b[0mhandles\u001b[0m\u001b[0;34m.\u001b[0m\u001b[0mappend\u001b[0m\u001b[0;34m(\u001b[0m\u001b[0mhandle\u001b[0m\u001b[0;34m)\u001b[0m\u001b[0;34m\u001b[0m\u001b[0;34m\u001b[0m\u001b[0m\n\u001b[1;32m    653\u001b[0m \u001b[0;34m\u001b[0m\u001b[0m\n",
      "\u001b[0;31mFileNotFoundError\u001b[0m: [Errno 2] No such file or directory: 'Folds5x2_pp.ods'"
     ]
    }
   ],
   "source": [
    "#read arff file\n",
    "data1 = arff.loadarff('../data/column_2C_weka.arff')\n"
   ]
  },
  {
   "cell_type": "code",
   "execution_count": 3,
   "id": "f11c9aa0",
   "metadata": {},
   "outputs": [],
   "source": [
    "#store arff info to datafram\n",
    "df1 = pd.DataFrame(data1[0])"
   ]
  },
  {
   "cell_type": "code",
   "execution_count": 4,
   "id": "49954e65",
   "metadata": {},
   "outputs": [
    {
     "data": {
      "text/html": [
       "<div>\n",
       "<style scoped>\n",
       "    .dataframe tbody tr th:only-of-type {\n",
       "        vertical-align: middle;\n",
       "    }\n",
       "\n",
       "    .dataframe tbody tr th {\n",
       "        vertical-align: top;\n",
       "    }\n",
       "\n",
       "    .dataframe thead th {\n",
       "        text-align: right;\n",
       "    }\n",
       "</style>\n",
       "<table border=\"1\" class=\"dataframe\">\n",
       "  <thead>\n",
       "    <tr style=\"text-align: right;\">\n",
       "      <th></th>\n",
       "      <th>pelvic_incidence</th>\n",
       "      <th>pelvic_tilt</th>\n",
       "      <th>lumbar_lordosis_angle</th>\n",
       "      <th>sacral_slope</th>\n",
       "      <th>pelvic_radius</th>\n",
       "      <th>degree_spondylolisthesis</th>\n",
       "      <th>class</th>\n",
       "    </tr>\n",
       "  </thead>\n",
       "  <tbody>\n",
       "    <tr>\n",
       "      <th>0</th>\n",
       "      <td>63.027817</td>\n",
       "      <td>22.552586</td>\n",
       "      <td>39.609117</td>\n",
       "      <td>40.475232</td>\n",
       "      <td>98.672917</td>\n",
       "      <td>-0.254400</td>\n",
       "      <td>b'Abnormal'</td>\n",
       "    </tr>\n",
       "    <tr>\n",
       "      <th>1</th>\n",
       "      <td>39.056951</td>\n",
       "      <td>10.060991</td>\n",
       "      <td>25.015378</td>\n",
       "      <td>28.995960</td>\n",
       "      <td>114.405425</td>\n",
       "      <td>4.564259</td>\n",
       "      <td>b'Abnormal'</td>\n",
       "    </tr>\n",
       "    <tr>\n",
       "      <th>2</th>\n",
       "      <td>68.832021</td>\n",
       "      <td>22.218482</td>\n",
       "      <td>50.092194</td>\n",
       "      <td>46.613539</td>\n",
       "      <td>105.985135</td>\n",
       "      <td>-3.530317</td>\n",
       "      <td>b'Abnormal'</td>\n",
       "    </tr>\n",
       "    <tr>\n",
       "      <th>3</th>\n",
       "      <td>69.297008</td>\n",
       "      <td>24.652878</td>\n",
       "      <td>44.311238</td>\n",
       "      <td>44.644130</td>\n",
       "      <td>101.868495</td>\n",
       "      <td>11.211523</td>\n",
       "      <td>b'Abnormal'</td>\n",
       "    </tr>\n",
       "    <tr>\n",
       "      <th>4</th>\n",
       "      <td>49.712859</td>\n",
       "      <td>9.652075</td>\n",
       "      <td>28.317406</td>\n",
       "      <td>40.060784</td>\n",
       "      <td>108.168725</td>\n",
       "      <td>7.918501</td>\n",
       "      <td>b'Abnormal'</td>\n",
       "    </tr>\n",
       "    <tr>\n",
       "      <th>5</th>\n",
       "      <td>40.250200</td>\n",
       "      <td>13.921907</td>\n",
       "      <td>25.124950</td>\n",
       "      <td>26.328293</td>\n",
       "      <td>130.327871</td>\n",
       "      <td>2.230652</td>\n",
       "      <td>b'Abnormal'</td>\n",
       "    </tr>\n",
       "    <tr>\n",
       "      <th>6</th>\n",
       "      <td>53.432928</td>\n",
       "      <td>15.864336</td>\n",
       "      <td>37.165934</td>\n",
       "      <td>37.568592</td>\n",
       "      <td>120.567523</td>\n",
       "      <td>5.988551</td>\n",
       "      <td>b'Abnormal'</td>\n",
       "    </tr>\n",
       "    <tr>\n",
       "      <th>7</th>\n",
       "      <td>45.366754</td>\n",
       "      <td>10.755611</td>\n",
       "      <td>29.038349</td>\n",
       "      <td>34.611142</td>\n",
       "      <td>117.270067</td>\n",
       "      <td>-10.675871</td>\n",
       "      <td>b'Abnormal'</td>\n",
       "    </tr>\n",
       "    <tr>\n",
       "      <th>8</th>\n",
       "      <td>43.790190</td>\n",
       "      <td>13.533753</td>\n",
       "      <td>42.690814</td>\n",
       "      <td>30.256437</td>\n",
       "      <td>125.002893</td>\n",
       "      <td>13.289018</td>\n",
       "      <td>b'Abnormal'</td>\n",
       "    </tr>\n",
       "    <tr>\n",
       "      <th>9</th>\n",
       "      <td>36.686353</td>\n",
       "      <td>5.010884</td>\n",
       "      <td>41.948751</td>\n",
       "      <td>31.675469</td>\n",
       "      <td>84.241415</td>\n",
       "      <td>0.664437</td>\n",
       "      <td>b'Abnormal'</td>\n",
       "    </tr>\n",
       "  </tbody>\n",
       "</table>\n",
       "</div>"
      ],
      "text/plain": [
       "   pelvic_incidence  pelvic_tilt  lumbar_lordosis_angle  sacral_slope  \\\n",
       "0         63.027817    22.552586              39.609117     40.475232   \n",
       "1         39.056951    10.060991              25.015378     28.995960   \n",
       "2         68.832021    22.218482              50.092194     46.613539   \n",
       "3         69.297008    24.652878              44.311238     44.644130   \n",
       "4         49.712859     9.652075              28.317406     40.060784   \n",
       "5         40.250200    13.921907              25.124950     26.328293   \n",
       "6         53.432928    15.864336              37.165934     37.568592   \n",
       "7         45.366754    10.755611              29.038349     34.611142   \n",
       "8         43.790190    13.533753              42.690814     30.256437   \n",
       "9         36.686353     5.010884              41.948751     31.675469   \n",
       "\n",
       "   pelvic_radius  degree_spondylolisthesis        class  \n",
       "0      98.672917                 -0.254400  b'Abnormal'  \n",
       "1     114.405425                  4.564259  b'Abnormal'  \n",
       "2     105.985135                 -3.530317  b'Abnormal'  \n",
       "3     101.868495                 11.211523  b'Abnormal'  \n",
       "4     108.168725                  7.918501  b'Abnormal'  \n",
       "5     130.327871                  2.230652  b'Abnormal'  \n",
       "6     120.567523                  5.988551  b'Abnormal'  \n",
       "7     117.270067                -10.675871  b'Abnormal'  \n",
       "8     125.002893                 13.289018  b'Abnormal'  \n",
       "9      84.241415                  0.664437  b'Abnormal'  "
      ]
     },
     "execution_count": 4,
     "metadata": {},
     "output_type": "execute_result"
    }
   ],
   "source": [
    "df1.head(10)"
   ]
  },
  {
   "cell_type": "markdown",
   "id": "441b7851",
   "metadata": {},
   "source": [
    "## (b) i.  Make scatterplots of the independent variables in the dataset. Use color to show Classes 0 and 1."
   ]
  },
  {
   "cell_type": "code",
   "execution_count": 5,
   "id": "0ed38779",
   "metadata": {},
   "outputs": [
    {
     "data": {
      "text/plain": [
       "<seaborn.axisgrid.PairGrid at 0x7ff62e917cd0>"
      ]
     },
     "execution_count": 5,
     "metadata": {},
     "output_type": "execute_result"
    },
    {
     "data": {
      "image/png": "[encoded data removed]",
      "text/plain": [
       "<Figure size 1176.12x1080 with 42 Axes>"
      ]
     },
     "metadata": {
      "needs_background": "light"
     },
     "output_type": "display_data"
    }
   ],
   "source": [
    "sns.pairplot(df1, hue = \"class\")\n",
    "#, diag_kind=\"hist\""
   ]
  },
  {
   "cell_type": "markdown",
   "id": "5058ac11",
   "metadata": {},
   "source": [
    "## ii.  Make boxplots for each of the independent variables. Use color to show Classes 0 and 1 (see ISLR p. 129)."
   ]
  },
  {
   "cell_type": "code",
   "execution_count": 6,
   "id": "47668f54",
   "metadata": {},
   "outputs": [
    {
     "data": {
      "text/plain": [
       "Index(['pelvic_incidence', 'pelvic_tilt', 'lumbar_lordosis_angle',\n",
       "       'sacral_slope', 'pelvic_radius', 'degree_spondylolisthesis'],\n",
       "      dtype='object')"
      ]
     },
     "execution_count": 6,
     "metadata": {},
     "output_type": "execute_result"
    }
   ],
   "source": [
    "df1.columns.drop('class')"
   ]
  },
  {
   "cell_type": "code",
   "execution_count": 7,
   "id": "9fb615dd",
   "metadata": {},
   "outputs": [
    {
     "data": {
      "text/html": [
       "<div>\n",
       "<style scoped>\n",
       "    .dataframe tbody tr th:only-of-type {\n",
       "        vertical-align: middle;\n",
       "    }\n",
       "\n",
       "    .dataframe tbody tr th {\n",
       "        vertical-align: top;\n",
       "    }\n",
       "\n",
       "    .dataframe thead th {\n",
       "        text-align: right;\n",
       "    }\n",
       "</style>\n",
       "<table border=\"1\" class=\"dataframe\">\n",
       "  <thead>\n",
       "    <tr style=\"text-align: right;\">\n",
       "      <th></th>\n",
       "      <th>pelvic_incidence</th>\n",
       "      <th>pelvic_tilt</th>\n",
       "      <th>lumbar_lordosis_angle</th>\n",
       "      <th>sacral_slope</th>\n",
       "      <th>pelvic_radius</th>\n",
       "      <th>degree_spondylolisthesis</th>\n",
       "      <th>class</th>\n",
       "    </tr>\n",
       "  </thead>\n",
       "  <tbody>\n",
       "    <tr>\n",
       "      <th>0</th>\n",
       "      <td>63.027817</td>\n",
       "      <td>22.552586</td>\n",
       "      <td>39.609117</td>\n",
       "      <td>40.475232</td>\n",
       "      <td>98.672917</td>\n",
       "      <td>-0.254400</td>\n",
       "      <td>b'Abnormal'</td>\n",
       "    </tr>\n",
       "    <tr>\n",
       "      <th>1</th>\n",
       "      <td>39.056951</td>\n",
       "      <td>10.060991</td>\n",
       "      <td>25.015378</td>\n",
       "      <td>28.995960</td>\n",
       "      <td>114.405425</td>\n",
       "      <td>4.564259</td>\n",
       "      <td>b'Abnormal'</td>\n",
       "    </tr>\n",
       "    <tr>\n",
       "      <th>2</th>\n",
       "      <td>68.832021</td>\n",
       "      <td>22.218482</td>\n",
       "      <td>50.092194</td>\n",
       "      <td>46.613539</td>\n",
       "      <td>105.985135</td>\n",
       "      <td>-3.530317</td>\n",
       "      <td>b'Abnormal'</td>\n",
       "    </tr>\n",
       "    <tr>\n",
       "      <th>3</th>\n",
       "      <td>69.297008</td>\n",
       "      <td>24.652878</td>\n",
       "      <td>44.311238</td>\n",
       "      <td>44.644130</td>\n",
       "      <td>101.868495</td>\n",
       "      <td>11.211523</td>\n",
       "      <td>b'Abnormal'</td>\n",
       "    </tr>\n",
       "    <tr>\n",
       "      <th>4</th>\n",
       "      <td>49.712859</td>\n",
       "      <td>9.652075</td>\n",
       "      <td>28.317406</td>\n",
       "      <td>40.060784</td>\n",
       "      <td>108.168725</td>\n",
       "      <td>7.918501</td>\n",
       "      <td>b'Abnormal'</td>\n",
       "    </tr>\n",
       "    <tr>\n",
       "      <th>...</th>\n",
       "      <td>...</td>\n",
       "      <td>...</td>\n",
       "      <td>...</td>\n",
       "      <td>...</td>\n",
       "      <td>...</td>\n",
       "      <td>...</td>\n",
       "      <td>...</td>\n",
       "    </tr>\n",
       "    <tr>\n",
       "      <th>305</th>\n",
       "      <td>47.903565</td>\n",
       "      <td>13.616688</td>\n",
       "      <td>36.000000</td>\n",
       "      <td>34.286877</td>\n",
       "      <td>117.449062</td>\n",
       "      <td>-4.245395</td>\n",
       "      <td>b'Normal'</td>\n",
       "    </tr>\n",
       "    <tr>\n",
       "      <th>306</th>\n",
       "      <td>53.936748</td>\n",
       "      <td>20.721496</td>\n",
       "      <td>29.220534</td>\n",
       "      <td>33.215251</td>\n",
       "      <td>114.365845</td>\n",
       "      <td>-0.421010</td>\n",
       "      <td>b'Normal'</td>\n",
       "    </tr>\n",
       "    <tr>\n",
       "      <th>307</th>\n",
       "      <td>61.446597</td>\n",
       "      <td>22.694968</td>\n",
       "      <td>46.170347</td>\n",
       "      <td>38.751628</td>\n",
       "      <td>125.670725</td>\n",
       "      <td>-2.707880</td>\n",
       "      <td>b'Normal'</td>\n",
       "    </tr>\n",
       "    <tr>\n",
       "      <th>308</th>\n",
       "      <td>45.252792</td>\n",
       "      <td>8.693157</td>\n",
       "      <td>41.583126</td>\n",
       "      <td>36.559635</td>\n",
       "      <td>118.545842</td>\n",
       "      <td>0.214750</td>\n",
       "      <td>b'Normal'</td>\n",
       "    </tr>\n",
       "    <tr>\n",
       "      <th>309</th>\n",
       "      <td>33.841641</td>\n",
       "      <td>5.073991</td>\n",
       "      <td>36.641233</td>\n",
       "      <td>28.767649</td>\n",
       "      <td>123.945244</td>\n",
       "      <td>-0.199249</td>\n",
       "      <td>b'Normal'</td>\n",
       "    </tr>\n",
       "  </tbody>\n",
       "</table>\n",
       "<p>310 rows × 7 columns</p>\n",
       "</div>"
      ],
      "text/plain": [
       "     pelvic_incidence  pelvic_tilt  lumbar_lordosis_angle  sacral_slope  \\\n",
       "0           63.027817    22.552586              39.609117     40.475232   \n",
       "1           39.056951    10.060991              25.015378     28.995960   \n",
       "2           68.832021    22.218482              50.092194     46.613539   \n",
       "3           69.297008    24.652878              44.311238     44.644130   \n",
       "4           49.712859     9.652075              28.317406     40.060784   \n",
       "..                ...          ...                    ...           ...   \n",
       "305         47.903565    13.616688              36.000000     34.286877   \n",
       "306         53.936748    20.721496              29.220534     33.215251   \n",
       "307         61.446597    22.694968              46.170347     38.751628   \n",
       "308         45.252792     8.693157              41.583126     36.559635   \n",
       "309         33.841641     5.073991              36.641233     28.767649   \n",
       "\n",
       "     pelvic_radius  degree_spondylolisthesis        class  \n",
       "0        98.672917                 -0.254400  b'Abnormal'  \n",
       "1       114.405425                  4.564259  b'Abnormal'  \n",
       "2       105.985135                 -3.530317  b'Abnormal'  \n",
       "3       101.868495                 11.211523  b'Abnormal'  \n",
       "4       108.168725                  7.918501  b'Abnormal'  \n",
       "..             ...                       ...          ...  \n",
       "305     117.449062                 -4.245395    b'Normal'  \n",
       "306     114.365845                 -0.421010    b'Normal'  \n",
       "307     125.670725                 -2.707880    b'Normal'  \n",
       "308     118.545842                  0.214750    b'Normal'  \n",
       "309     123.945244                 -0.199249    b'Normal'  \n",
       "\n",
       "[310 rows x 7 columns]"
      ]
     },
     "execution_count": 7,
     "metadata": {},
     "output_type": "execute_result"
    }
   ],
   "source": [
    "df1"
   ]
  },
  {
   "cell_type": "code",
   "execution_count": 8,
   "id": "4f486d7a",
   "metadata": {},
   "outputs": [],
   "source": [
    "df = df1.copy()"
   ]
  },
  {
   "cell_type": "code",
   "execution_count": 9,
   "id": "7d919d99",
   "metadata": {},
   "outputs": [],
   "source": [
    "df = df1.replace(b'Abnormal', 1)\n",
    "df = df.replace(b'Normal', 0)"
   ]
  },
  {
   "cell_type": "code",
   "execution_count": 10,
   "id": "bb0b1d0f",
   "metadata": {},
   "outputs": [
    {
     "data": {
      "text/html": [
       "<div>\n",
       "<style scoped>\n",
       "    .dataframe tbody tr th:only-of-type {\n",
       "        vertical-align: middle;\n",
       "    }\n",
       "\n",
       "    .dataframe tbody tr th {\n",
       "        vertical-align: top;\n",
       "    }\n",
       "\n",
       "    .dataframe thead th {\n",
       "        text-align: right;\n",
       "    }\n",
       "</style>\n",
       "<table border=\"1\" class=\"dataframe\">\n",
       "  <thead>\n",
       "    <tr style=\"text-align: right;\">\n",
       "      <th></th>\n",
       "      <th>pelvic_incidence</th>\n",
       "      <th>pelvic_tilt</th>\n",
       "      <th>lumbar_lordosis_angle</th>\n",
       "      <th>sacral_slope</th>\n",
       "      <th>pelvic_radius</th>\n",
       "      <th>degree_spondylolisthesis</th>\n",
       "      <th>class</th>\n",
       "    </tr>\n",
       "  </thead>\n",
       "  <tbody>\n",
       "    <tr>\n",
       "      <th>0</th>\n",
       "      <td>63.027817</td>\n",
       "      <td>22.552586</td>\n",
       "      <td>39.609117</td>\n",
       "      <td>40.475232</td>\n",
       "      <td>98.672917</td>\n",
       "      <td>-0.254400</td>\n",
       "      <td>1</td>\n",
       "    </tr>\n",
       "    <tr>\n",
       "      <th>1</th>\n",
       "      <td>39.056951</td>\n",
       "      <td>10.060991</td>\n",
       "      <td>25.015378</td>\n",
       "      <td>28.995960</td>\n",
       "      <td>114.405425</td>\n",
       "      <td>4.564259</td>\n",
       "      <td>1</td>\n",
       "    </tr>\n",
       "    <tr>\n",
       "      <th>2</th>\n",
       "      <td>68.832021</td>\n",
       "      <td>22.218482</td>\n",
       "      <td>50.092194</td>\n",
       "      <td>46.613539</td>\n",
       "      <td>105.985135</td>\n",
       "      <td>-3.530317</td>\n",
       "      <td>1</td>\n",
       "    </tr>\n",
       "    <tr>\n",
       "      <th>3</th>\n",
       "      <td>69.297008</td>\n",
       "      <td>24.652878</td>\n",
       "      <td>44.311238</td>\n",
       "      <td>44.644130</td>\n",
       "      <td>101.868495</td>\n",
       "      <td>11.211523</td>\n",
       "      <td>1</td>\n",
       "    </tr>\n",
       "    <tr>\n",
       "      <th>4</th>\n",
       "      <td>49.712859</td>\n",
       "      <td>9.652075</td>\n",
       "      <td>28.317406</td>\n",
       "      <td>40.060784</td>\n",
       "      <td>108.168725</td>\n",
       "      <td>7.918501</td>\n",
       "      <td>1</td>\n",
       "    </tr>\n",
       "    <tr>\n",
       "      <th>...</th>\n",
       "      <td>...</td>\n",
       "      <td>...</td>\n",
       "      <td>...</td>\n",
       "      <td>...</td>\n",
       "      <td>...</td>\n",
       "      <td>...</td>\n",
       "      <td>...</td>\n",
       "    </tr>\n",
       "    <tr>\n",
       "      <th>305</th>\n",
       "      <td>47.903565</td>\n",
       "      <td>13.616688</td>\n",
       "      <td>36.000000</td>\n",
       "      <td>34.286877</td>\n",
       "      <td>117.449062</td>\n",
       "      <td>-4.245395</td>\n",
       "      <td>0</td>\n",
       "    </tr>\n",
       "    <tr>\n",
       "      <th>306</th>\n",
       "      <td>53.936748</td>\n",
       "      <td>20.721496</td>\n",
       "      <td>29.220534</td>\n",
       "      <td>33.215251</td>\n",
       "      <td>114.365845</td>\n",
       "      <td>-0.421010</td>\n",
       "      <td>0</td>\n",
       "    </tr>\n",
       "    <tr>\n",
       "      <th>307</th>\n",
       "      <td>61.446597</td>\n",
       "      <td>22.694968</td>\n",
       "      <td>46.170347</td>\n",
       "      <td>38.751628</td>\n",
       "      <td>125.670725</td>\n",
       "      <td>-2.707880</td>\n",
       "      <td>0</td>\n",
       "    </tr>\n",
       "    <tr>\n",
       "      <th>308</th>\n",
       "      <td>45.252792</td>\n",
       "      <td>8.693157</td>\n",
       "      <td>41.583126</td>\n",
       "      <td>36.559635</td>\n",
       "      <td>118.545842</td>\n",
       "      <td>0.214750</td>\n",
       "      <td>0</td>\n",
       "    </tr>\n",
       "    <tr>\n",
       "      <th>309</th>\n",
       "      <td>33.841641</td>\n",
       "      <td>5.073991</td>\n",
       "      <td>36.641233</td>\n",
       "      <td>28.767649</td>\n",
       "      <td>123.945244</td>\n",
       "      <td>-0.199249</td>\n",
       "      <td>0</td>\n",
       "    </tr>\n",
       "  </tbody>\n",
       "</table>\n",
       "<p>310 rows × 7 columns</p>\n",
       "</div>"
      ],
      "text/plain": [
       "     pelvic_incidence  pelvic_tilt  lumbar_lordosis_angle  sacral_slope  \\\n",
       "0           63.027817    22.552586              39.609117     40.475232   \n",
       "1           39.056951    10.060991              25.015378     28.995960   \n",
       "2           68.832021    22.218482              50.092194     46.613539   \n",
       "3           69.297008    24.652878              44.311238     44.644130   \n",
       "4           49.712859     9.652075              28.317406     40.060784   \n",
       "..                ...          ...                    ...           ...   \n",
       "305         47.903565    13.616688              36.000000     34.286877   \n",
       "306         53.936748    20.721496              29.220534     33.215251   \n",
       "307         61.446597    22.694968              46.170347     38.751628   \n",
       "308         45.252792     8.693157              41.583126     36.559635   \n",
       "309         33.841641     5.073991              36.641233     28.767649   \n",
       "\n",
       "     pelvic_radius  degree_spondylolisthesis  class  \n",
       "0        98.672917                 -0.254400      1  \n",
       "1       114.405425                  4.564259      1  \n",
       "2       105.985135                 -3.530317      1  \n",
       "3       101.868495                 11.211523      1  \n",
       "4       108.168725                  7.918501      1  \n",
       "..             ...                       ...    ...  \n",
       "305     117.449062                 -4.245395      0  \n",
       "306     114.365845                 -0.421010      0  \n",
       "307     125.670725                 -2.707880      0  \n",
       "308     118.545842                  0.214750      0  \n",
       "309     123.945244                 -0.199249      0  \n",
       "\n",
       "[310 rows x 7 columns]"
      ]
     },
     "execution_count": 10,
     "metadata": {},
     "output_type": "execute_result"
    }
   ],
   "source": [
    "df"
   ]
  },
  {
   "cell_type": "code",
   "execution_count": 11,
   "id": "4bb8a4ac",
   "metadata": {},
   "outputs": [
    {
     "data": {
      "image/png": "[encoded data removed]",
      "text/plain": [
       "<Figure size 1080x864 with 6 Axes>"
      ]
     },
     "metadata": {
      "needs_background": "light"
     },
     "output_type": "display_data"
    }
   ],
   "source": [
    "fig, axes = plt.subplots(2,3, figsize = (15,12)) \n",
    "sns.boxplot(y = \"pelvic_incidence\" , x = \"class\", data = df, orient = 'v', ax = axes[0,0])\n",
    "sns.boxplot(y = \"pelvic_tilt\" , x = \"class\", data = df, orient = 'v', ax = axes[0,1])\n",
    "sns.boxplot(y = \"lumbar_lordosis_angle\" , x = \"class\", data = df, orient = 'v', ax = axes[0,2])\n",
    "sns.boxplot(y = \"sacral_slope\" , x = \"class\", data = df, orient = 'v', ax = axes[1,0])\n",
    "sns.boxplot(y = 'pelvic_radius' , x = 'class', data = df, orient = 'v', ax=axes[1,1])\n",
    "sns.boxplot(y = \"degree_spondylolisthesis\" , x = \"class\", data = df, orient = 'v', ax = axes[1,2])\n",
    "fig.suptitle('Boxplot of different variables')\n",
    "fig.tight_layout()"
   ]
  },
  {
   "cell_type": "markdown",
   "id": "0ce0a985",
   "metadata": {},
   "source": [
    "## iii.)Select the first 70 rows of Class 0 and the first 140 rows of Class 1 as the training set and the rest of the data as the test set "
   ]
  },
  {
   "cell_type": "code",
   "execution_count": 12,
   "id": "c5b3268a",
   "metadata": {
    "scrolled": true
   },
   "outputs": [],
   "source": [
    "AB = df1[df1['class'] == b'Abnormal']\n",
    "NO = df1[df1['class'] == b'Normal']"
   ]
  },
  {
   "cell_type": "code",
   "execution_count": 13,
   "id": "058dcf05",
   "metadata": {},
   "outputs": [
    {
     "name": "stderr",
     "output_type": "stream",
     "text": [
      "/Users/charlieblah/opt/anaconda3/lib/python3.8/site-packages/pandas/core/indexing.py:1720: SettingWithCopyWarning: \n",
      "A value is trying to be set on a copy of a slice from a DataFrame.\n",
      "Try using .loc[row_indexer,col_indexer] = value instead\n",
      "\n",
      "See the caveats in the documentation: https://pandas.pydata.org/pandas-docs/stable/user_guide/indexing.html#returning-a-view-versus-a-copy\n",
      "  self._setitem_single_column(loc, value, pi)\n"
     ]
    }
   ],
   "source": [
    "AB.loc[:, 'class'] = 1\n",
    "NO.loc[:, 'class'] = 0"
   ]
  },
  {
   "cell_type": "code",
   "execution_count": 14,
   "id": "d78e99c9",
   "metadata": {
    "scrolled": true
   },
   "outputs": [],
   "source": [
    "#training set\n",
    "train1 = NO.iloc[:70]\n",
    "train2 = AB.iloc[:140]\n",
    "X = pd.concat([train1,train2])"
   ]
  },
  {
   "cell_type": "code",
   "execution_count": 15,
   "id": "b29a7c04",
   "metadata": {},
   "outputs": [],
   "source": [
    "#Test set\n",
    "test1 = NO.iloc[70:]\n",
    "test2 = AB.iloc[140:]\n",
    "y = pd.concat([test1, test2])"
   ]
  },
  {
   "cell_type": "code",
   "execution_count": 16,
   "id": "0c021a0f",
   "metadata": {},
   "outputs": [],
   "source": [
    "# split the data into independent and dependent variable\n",
    "X_train = X.drop(['class'], axis = 1)\n",
    "y_train = X['class']\n",
    "X_test = y.drop(['class'], axis = 1)\n",
    "y_test = y['class']\n",
    "X_train1 = X_train.copy()\n",
    "y_train1 = y_train.copy()"
   ]
  },
  {
   "cell_type": "code",
   "execution_count": 17,
   "id": "9bd84b94",
   "metadata": {},
   "outputs": [
    {
     "data": {
      "text/html": [
       "<div>\n",
       "<style scoped>\n",
       "    .dataframe tbody tr th:only-of-type {\n",
       "        vertical-align: middle;\n",
       "    }\n",
       "\n",
       "    .dataframe tbody tr th {\n",
       "        vertical-align: top;\n",
       "    }\n",
       "\n",
       "    .dataframe thead th {\n",
       "        text-align: right;\n",
       "    }\n",
       "</style>\n",
       "<table border=\"1\" class=\"dataframe\">\n",
       "  <thead>\n",
       "    <tr style=\"text-align: right;\">\n",
       "      <th></th>\n",
       "      <th>pelvic_incidence</th>\n",
       "      <th>pelvic_tilt</th>\n",
       "      <th>lumbar_lordosis_angle</th>\n",
       "      <th>sacral_slope</th>\n",
       "      <th>pelvic_radius</th>\n",
       "      <th>degree_spondylolisthesis</th>\n",
       "      <th>class</th>\n",
       "    </tr>\n",
       "  </thead>\n",
       "  <tbody>\n",
       "    <tr>\n",
       "      <th>210</th>\n",
       "      <td>38.505273</td>\n",
       "      <td>16.964297</td>\n",
       "      <td>35.112814</td>\n",
       "      <td>21.540976</td>\n",
       "      <td>127.632875</td>\n",
       "      <td>7.986683</td>\n",
       "      <td>0</td>\n",
       "    </tr>\n",
       "    <tr>\n",
       "      <th>211</th>\n",
       "      <td>54.920858</td>\n",
       "      <td>18.968430</td>\n",
       "      <td>51.601455</td>\n",
       "      <td>35.952428</td>\n",
       "      <td>125.846646</td>\n",
       "      <td>2.001642</td>\n",
       "      <td>0</td>\n",
       "    </tr>\n",
       "    <tr>\n",
       "      <th>212</th>\n",
       "      <td>44.362490</td>\n",
       "      <td>8.945435</td>\n",
       "      <td>46.902096</td>\n",
       "      <td>35.417055</td>\n",
       "      <td>129.220682</td>\n",
       "      <td>4.994195</td>\n",
       "      <td>0</td>\n",
       "    </tr>\n",
       "    <tr>\n",
       "      <th>213</th>\n",
       "      <td>48.318931</td>\n",
       "      <td>17.452121</td>\n",
       "      <td>48.000000</td>\n",
       "      <td>30.866809</td>\n",
       "      <td>128.980308</td>\n",
       "      <td>-0.910941</td>\n",
       "      <td>0</td>\n",
       "    </tr>\n",
       "    <tr>\n",
       "      <th>214</th>\n",
       "      <td>45.701789</td>\n",
       "      <td>10.659859</td>\n",
       "      <td>42.577846</td>\n",
       "      <td>35.041929</td>\n",
       "      <td>130.178314</td>\n",
       "      <td>-3.388910</td>\n",
       "      <td>0</td>\n",
       "    </tr>\n",
       "    <tr>\n",
       "      <th>...</th>\n",
       "      <td>...</td>\n",
       "      <td>...</td>\n",
       "      <td>...</td>\n",
       "      <td>...</td>\n",
       "      <td>...</td>\n",
       "      <td>...</td>\n",
       "      <td>...</td>\n",
       "    </tr>\n",
       "    <tr>\n",
       "      <th>135</th>\n",
       "      <td>77.121344</td>\n",
       "      <td>30.349874</td>\n",
       "      <td>77.481083</td>\n",
       "      <td>46.771470</td>\n",
       "      <td>110.611148</td>\n",
       "      <td>82.093607</td>\n",
       "      <td>1</td>\n",
       "    </tr>\n",
       "    <tr>\n",
       "      <th>136</th>\n",
       "      <td>88.024499</td>\n",
       "      <td>39.844669</td>\n",
       "      <td>81.774473</td>\n",
       "      <td>48.179830</td>\n",
       "      <td>116.601538</td>\n",
       "      <td>56.766083</td>\n",
       "      <td>1</td>\n",
       "    </tr>\n",
       "    <tr>\n",
       "      <th>137</th>\n",
       "      <td>83.396606</td>\n",
       "      <td>34.310989</td>\n",
       "      <td>78.423293</td>\n",
       "      <td>49.085617</td>\n",
       "      <td>110.466516</td>\n",
       "      <td>49.672096</td>\n",
       "      <td>1</td>\n",
       "    </tr>\n",
       "    <tr>\n",
       "      <th>138</th>\n",
       "      <td>72.054034</td>\n",
       "      <td>24.700737</td>\n",
       "      <td>79.874016</td>\n",
       "      <td>47.353297</td>\n",
       "      <td>107.172358</td>\n",
       "      <td>56.426159</td>\n",
       "      <td>1</td>\n",
       "    </tr>\n",
       "    <tr>\n",
       "      <th>139</th>\n",
       "      <td>85.095503</td>\n",
       "      <td>21.069897</td>\n",
       "      <td>91.734792</td>\n",
       "      <td>64.025606</td>\n",
       "      <td>109.062312</td>\n",
       "      <td>38.032831</td>\n",
       "      <td>1</td>\n",
       "    </tr>\n",
       "  </tbody>\n",
       "</table>\n",
       "<p>210 rows × 7 columns</p>\n",
       "</div>"
      ],
      "text/plain": [
       "     pelvic_incidence  pelvic_tilt  lumbar_lordosis_angle  sacral_slope  \\\n",
       "210         38.505273    16.964297              35.112814     21.540976   \n",
       "211         54.920858    18.968430              51.601455     35.952428   \n",
       "212         44.362490     8.945435              46.902096     35.417055   \n",
       "213         48.318931    17.452121              48.000000     30.866809   \n",
       "214         45.701789    10.659859              42.577846     35.041929   \n",
       "..                ...          ...                    ...           ...   \n",
       "135         77.121344    30.349874              77.481083     46.771470   \n",
       "136         88.024499    39.844669              81.774473     48.179830   \n",
       "137         83.396606    34.310989              78.423293     49.085617   \n",
       "138         72.054034    24.700737              79.874016     47.353297   \n",
       "139         85.095503    21.069897              91.734792     64.025606   \n",
       "\n",
       "     pelvic_radius  degree_spondylolisthesis  class  \n",
       "210     127.632875                  7.986683      0  \n",
       "211     125.846646                  2.001642      0  \n",
       "212     129.220682                  4.994195      0  \n",
       "213     128.980308                 -0.910941      0  \n",
       "214     130.178314                 -3.388910      0  \n",
       "..             ...                       ...    ...  \n",
       "135     110.611148                 82.093607      1  \n",
       "136     116.601538                 56.766083      1  \n",
       "137     110.466516                 49.672096      1  \n",
       "138     107.172358                 56.426159      1  \n",
       "139     109.062312                 38.032831      1  \n",
       "\n",
       "[210 rows x 7 columns]"
      ]
     },
     "execution_count": 17,
     "metadata": {},
     "output_type": "execute_result"
    }
   ],
   "source": [
    "X"
   ]
  },
  {
   "cell_type": "code",
   "execution_count": 18,
   "id": "812932bc",
   "metadata": {},
   "outputs": [
    {
     "data": {
      "text/html": [
       "<div>\n",
       "<style scoped>\n",
       "    .dataframe tbody tr th:only-of-type {\n",
       "        vertical-align: middle;\n",
       "    }\n",
       "\n",
       "    .dataframe tbody tr th {\n",
       "        vertical-align: top;\n",
       "    }\n",
       "\n",
       "    .dataframe thead th {\n",
       "        text-align: right;\n",
       "    }\n",
       "</style>\n",
       "<table border=\"1\" class=\"dataframe\">\n",
       "  <thead>\n",
       "    <tr style=\"text-align: right;\">\n",
       "      <th></th>\n",
       "      <th>pelvic_incidence</th>\n",
       "      <th>pelvic_tilt</th>\n",
       "      <th>lumbar_lordosis_angle</th>\n",
       "      <th>sacral_slope</th>\n",
       "      <th>pelvic_radius</th>\n",
       "      <th>degree_spondylolisthesis</th>\n",
       "    </tr>\n",
       "  </thead>\n",
       "  <tbody>\n",
       "    <tr>\n",
       "      <th>210</th>\n",
       "      <td>38.505273</td>\n",
       "      <td>16.964297</td>\n",
       "      <td>35.112814</td>\n",
       "      <td>21.540976</td>\n",
       "      <td>127.632875</td>\n",
       "      <td>7.986683</td>\n",
       "    </tr>\n",
       "    <tr>\n",
       "      <th>211</th>\n",
       "      <td>54.920858</td>\n",
       "      <td>18.968430</td>\n",
       "      <td>51.601455</td>\n",
       "      <td>35.952428</td>\n",
       "      <td>125.846646</td>\n",
       "      <td>2.001642</td>\n",
       "    </tr>\n",
       "    <tr>\n",
       "      <th>212</th>\n",
       "      <td>44.362490</td>\n",
       "      <td>8.945435</td>\n",
       "      <td>46.902096</td>\n",
       "      <td>35.417055</td>\n",
       "      <td>129.220682</td>\n",
       "      <td>4.994195</td>\n",
       "    </tr>\n",
       "    <tr>\n",
       "      <th>213</th>\n",
       "      <td>48.318931</td>\n",
       "      <td>17.452121</td>\n",
       "      <td>48.000000</td>\n",
       "      <td>30.866809</td>\n",
       "      <td>128.980308</td>\n",
       "      <td>-0.910941</td>\n",
       "    </tr>\n",
       "    <tr>\n",
       "      <th>214</th>\n",
       "      <td>45.701789</td>\n",
       "      <td>10.659859</td>\n",
       "      <td>42.577846</td>\n",
       "      <td>35.041929</td>\n",
       "      <td>130.178314</td>\n",
       "      <td>-3.388910</td>\n",
       "    </tr>\n",
       "    <tr>\n",
       "      <th>...</th>\n",
       "      <td>...</td>\n",
       "      <td>...</td>\n",
       "      <td>...</td>\n",
       "      <td>...</td>\n",
       "      <td>...</td>\n",
       "      <td>...</td>\n",
       "    </tr>\n",
       "    <tr>\n",
       "      <th>135</th>\n",
       "      <td>77.121344</td>\n",
       "      <td>30.349874</td>\n",
       "      <td>77.481083</td>\n",
       "      <td>46.771470</td>\n",
       "      <td>110.611148</td>\n",
       "      <td>82.093607</td>\n",
       "    </tr>\n",
       "    <tr>\n",
       "      <th>136</th>\n",
       "      <td>88.024499</td>\n",
       "      <td>39.844669</td>\n",
       "      <td>81.774473</td>\n",
       "      <td>48.179830</td>\n",
       "      <td>116.601538</td>\n",
       "      <td>56.766083</td>\n",
       "    </tr>\n",
       "    <tr>\n",
       "      <th>137</th>\n",
       "      <td>83.396606</td>\n",
       "      <td>34.310989</td>\n",
       "      <td>78.423293</td>\n",
       "      <td>49.085617</td>\n",
       "      <td>110.466516</td>\n",
       "      <td>49.672096</td>\n",
       "    </tr>\n",
       "    <tr>\n",
       "      <th>138</th>\n",
       "      <td>72.054034</td>\n",
       "      <td>24.700737</td>\n",
       "      <td>79.874016</td>\n",
       "      <td>47.353297</td>\n",
       "      <td>107.172358</td>\n",
       "      <td>56.426159</td>\n",
       "    </tr>\n",
       "    <tr>\n",
       "      <th>139</th>\n",
       "      <td>85.095503</td>\n",
       "      <td>21.069897</td>\n",
       "      <td>91.734792</td>\n",
       "      <td>64.025606</td>\n",
       "      <td>109.062312</td>\n",
       "      <td>38.032831</td>\n",
       "    </tr>\n",
       "  </tbody>\n",
       "</table>\n",
       "<p>210 rows × 6 columns</p>\n",
       "</div>"
      ],
      "text/plain": [
       "     pelvic_incidence  pelvic_tilt  lumbar_lordosis_angle  sacral_slope  \\\n",
       "210         38.505273    16.964297              35.112814     21.540976   \n",
       "211         54.920858    18.968430              51.601455     35.952428   \n",
       "212         44.362490     8.945435              46.902096     35.417055   \n",
       "213         48.318931    17.452121              48.000000     30.866809   \n",
       "214         45.701789    10.659859              42.577846     35.041929   \n",
       "..                ...          ...                    ...           ...   \n",
       "135         77.121344    30.349874              77.481083     46.771470   \n",
       "136         88.024499    39.844669              81.774473     48.179830   \n",
       "137         83.396606    34.310989              78.423293     49.085617   \n",
       "138         72.054034    24.700737              79.874016     47.353297   \n",
       "139         85.095503    21.069897              91.734792     64.025606   \n",
       "\n",
       "     pelvic_radius  degree_spondylolisthesis  \n",
       "210     127.632875                  7.986683  \n",
       "211     125.846646                  2.001642  \n",
       "212     129.220682                  4.994195  \n",
       "213     128.980308                 -0.910941  \n",
       "214     130.178314                 -3.388910  \n",
       "..             ...                       ...  \n",
       "135     110.611148                 82.093607  \n",
       "136     116.601538                 56.766083  \n",
       "137     110.466516                 49.672096  \n",
       "138     107.172358                 56.426159  \n",
       "139     109.062312                 38.032831  \n",
       "\n",
       "[210 rows x 6 columns]"
      ]
     },
     "execution_count": 18,
     "metadata": {},
     "output_type": "execute_result"
    }
   ],
   "source": [
    "X_train"
   ]
  },
  {
   "cell_type": "markdown",
   "id": "b7864f0c",
   "metadata": {},
   "source": [
    "## (c) Classification using KNN on Vertebral Column Data Set"
   ]
  },
  {
   "cell_type": "markdown",
   "id": "0bc1dc05",
   "metadata": {},
   "source": [
    "## i.) Write code for k-nearest neighbors with Euclidean metric (or use a software package)."
   ]
  },
  {
   "cell_type": "code",
   "execution_count": 19,
   "id": "2c8c170b",
   "metadata": {},
   "outputs": [],
   "source": [
    "knn = KNeighborsClassifier(n_neighbors = 3, p = 2, metric = 'euclidean')"
   ]
  },
  {
   "cell_type": "code",
   "execution_count": 20,
   "id": "8e6699a4",
   "metadata": {},
   "outputs": [
    {
     "data": {
      "text/html": [
       "<div>\n",
       "<style scoped>\n",
       "    .dataframe tbody tr th:only-of-type {\n",
       "        vertical-align: middle;\n",
       "    }\n",
       "\n",
       "    .dataframe tbody tr th {\n",
       "        vertical-align: top;\n",
       "    }\n",
       "\n",
       "    .dataframe thead th {\n",
       "        text-align: right;\n",
       "    }\n",
       "</style>\n",
       "<table border=\"1\" class=\"dataframe\">\n",
       "  <thead>\n",
       "    <tr style=\"text-align: right;\">\n",
       "      <th></th>\n",
       "      <th>pelvic_incidence</th>\n",
       "      <th>pelvic_tilt</th>\n",
       "      <th>lumbar_lordosis_angle</th>\n",
       "      <th>sacral_slope</th>\n",
       "      <th>pelvic_radius</th>\n",
       "      <th>degree_spondylolisthesis</th>\n",
       "    </tr>\n",
       "  </thead>\n",
       "  <tbody>\n",
       "    <tr>\n",
       "      <th>210</th>\n",
       "      <td>38.505273</td>\n",
       "      <td>16.964297</td>\n",
       "      <td>35.112814</td>\n",
       "      <td>21.540976</td>\n",
       "      <td>127.632875</td>\n",
       "      <td>7.986683</td>\n",
       "    </tr>\n",
       "    <tr>\n",
       "      <th>211</th>\n",
       "      <td>54.920858</td>\n",
       "      <td>18.968430</td>\n",
       "      <td>51.601455</td>\n",
       "      <td>35.952428</td>\n",
       "      <td>125.846646</td>\n",
       "      <td>2.001642</td>\n",
       "    </tr>\n",
       "    <tr>\n",
       "      <th>212</th>\n",
       "      <td>44.362490</td>\n",
       "      <td>8.945435</td>\n",
       "      <td>46.902096</td>\n",
       "      <td>35.417055</td>\n",
       "      <td>129.220682</td>\n",
       "      <td>4.994195</td>\n",
       "    </tr>\n",
       "    <tr>\n",
       "      <th>213</th>\n",
       "      <td>48.318931</td>\n",
       "      <td>17.452121</td>\n",
       "      <td>48.000000</td>\n",
       "      <td>30.866809</td>\n",
       "      <td>128.980308</td>\n",
       "      <td>-0.910941</td>\n",
       "    </tr>\n",
       "    <tr>\n",
       "      <th>214</th>\n",
       "      <td>45.701789</td>\n",
       "      <td>10.659859</td>\n",
       "      <td>42.577846</td>\n",
       "      <td>35.041929</td>\n",
       "      <td>130.178314</td>\n",
       "      <td>-3.388910</td>\n",
       "    </tr>\n",
       "    <tr>\n",
       "      <th>...</th>\n",
       "      <td>...</td>\n",
       "      <td>...</td>\n",
       "      <td>...</td>\n",
       "      <td>...</td>\n",
       "      <td>...</td>\n",
       "      <td>...</td>\n",
       "    </tr>\n",
       "    <tr>\n",
       "      <th>135</th>\n",
       "      <td>77.121344</td>\n",
       "      <td>30.349874</td>\n",
       "      <td>77.481083</td>\n",
       "      <td>46.771470</td>\n",
       "      <td>110.611148</td>\n",
       "      <td>82.093607</td>\n",
       "    </tr>\n",
       "    <tr>\n",
       "      <th>136</th>\n",
       "      <td>88.024499</td>\n",
       "      <td>39.844669</td>\n",
       "      <td>81.774473</td>\n",
       "      <td>48.179830</td>\n",
       "      <td>116.601538</td>\n",
       "      <td>56.766083</td>\n",
       "    </tr>\n",
       "    <tr>\n",
       "      <th>137</th>\n",
       "      <td>83.396606</td>\n",
       "      <td>34.310989</td>\n",
       "      <td>78.423293</td>\n",
       "      <td>49.085617</td>\n",
       "      <td>110.466516</td>\n",
       "      <td>49.672096</td>\n",
       "    </tr>\n",
       "    <tr>\n",
       "      <th>138</th>\n",
       "      <td>72.054034</td>\n",
       "      <td>24.700737</td>\n",
       "      <td>79.874016</td>\n",
       "      <td>47.353297</td>\n",
       "      <td>107.172358</td>\n",
       "      <td>56.426159</td>\n",
       "    </tr>\n",
       "    <tr>\n",
       "      <th>139</th>\n",
       "      <td>85.095503</td>\n",
       "      <td>21.069897</td>\n",
       "      <td>91.734792</td>\n",
       "      <td>64.025606</td>\n",
       "      <td>109.062312</td>\n",
       "      <td>38.032831</td>\n",
       "    </tr>\n",
       "  </tbody>\n",
       "</table>\n",
       "<p>210 rows × 6 columns</p>\n",
       "</div>"
      ],
      "text/plain": [
       "     pelvic_incidence  pelvic_tilt  lumbar_lordosis_angle  sacral_slope  \\\n",
       "210         38.505273    16.964297              35.112814     21.540976   \n",
       "211         54.920858    18.968430              51.601455     35.952428   \n",
       "212         44.362490     8.945435              46.902096     35.417055   \n",
       "213         48.318931    17.452121              48.000000     30.866809   \n",
       "214         45.701789    10.659859              42.577846     35.041929   \n",
       "..                ...          ...                    ...           ...   \n",
       "135         77.121344    30.349874              77.481083     46.771470   \n",
       "136         88.024499    39.844669              81.774473     48.179830   \n",
       "137         83.396606    34.310989              78.423293     49.085617   \n",
       "138         72.054034    24.700737              79.874016     47.353297   \n",
       "139         85.095503    21.069897              91.734792     64.025606   \n",
       "\n",
       "     pelvic_radius  degree_spondylolisthesis  \n",
       "210     127.632875                  7.986683  \n",
       "211     125.846646                  2.001642  \n",
       "212     129.220682                  4.994195  \n",
       "213     128.980308                 -0.910941  \n",
       "214     130.178314                 -3.388910  \n",
       "..             ...                       ...  \n",
       "135     110.611148                 82.093607  \n",
       "136     116.601538                 56.766083  \n",
       "137     110.466516                 49.672096  \n",
       "138     107.172358                 56.426159  \n",
       "139     109.062312                 38.032831  \n",
       "\n",
       "[210 rows x 6 columns]"
      ]
     },
     "execution_count": 20,
     "metadata": {},
     "output_type": "execute_result"
    }
   ],
   "source": [
    "X_train"
   ]
  },
  {
   "cell_type": "code",
   "execution_count": 21,
   "id": "36bf036d",
   "metadata": {},
   "outputs": [
    {
     "data": {
      "text/html": [
       "<div>\n",
       "<style scoped>\n",
       "    .dataframe tbody tr th:only-of-type {\n",
       "        vertical-align: middle;\n",
       "    }\n",
       "\n",
       "    .dataframe tbody tr th {\n",
       "        vertical-align: top;\n",
       "    }\n",
       "\n",
       "    .dataframe thead th {\n",
       "        text-align: right;\n",
       "    }\n",
       "</style>\n",
       "<table border=\"1\" class=\"dataframe\">\n",
       "  <thead>\n",
       "    <tr style=\"text-align: right;\">\n",
       "      <th></th>\n",
       "      <th>pelvic_incidence</th>\n",
       "      <th>pelvic_tilt</th>\n",
       "      <th>lumbar_lordosis_angle</th>\n",
       "      <th>sacral_slope</th>\n",
       "      <th>pelvic_radius</th>\n",
       "      <th>degree_spondylolisthesis</th>\n",
       "    </tr>\n",
       "  </thead>\n",
       "  <tbody>\n",
       "    <tr>\n",
       "      <th>211</th>\n",
       "      <td>54.920858</td>\n",
       "      <td>18.96843</td>\n",
       "      <td>51.601455</td>\n",
       "      <td>35.952428</td>\n",
       "      <td>125.846646</td>\n",
       "      <td>2.001642</td>\n",
       "    </tr>\n",
       "  </tbody>\n",
       "</table>\n",
       "</div>"
      ],
      "text/plain": [
       "     pelvic_incidence  pelvic_tilt  lumbar_lordosis_angle  sacral_slope  \\\n",
       "211         54.920858     18.96843              51.601455     35.952428   \n",
       "\n",
       "     pelvic_radius  degree_spondylolisthesis  \n",
       "211     125.846646                  2.001642  "
      ]
     },
     "execution_count": 21,
     "metadata": {},
     "output_type": "execute_result"
    }
   ],
   "source": [
    "X_train.iloc[1:2]"
   ]
  },
  {
   "cell_type": "code",
   "execution_count": 22,
   "id": "f3617d17",
   "metadata": {},
   "outputs": [
    {
     "data": {
      "text/plain": [
       "pandas.core.frame.DataFrame"
      ]
     },
     "execution_count": 22,
     "metadata": {},
     "output_type": "execute_result"
    }
   ],
   "source": [
    "type(X_train)"
   ]
  },
  {
   "cell_type": "code",
   "execution_count": 23,
   "id": "db58d99a",
   "metadata": {},
   "outputs": [
    {
     "data": {
      "text/html": [
       "<div>\n",
       "<style scoped>\n",
       "    .dataframe tbody tr th:only-of-type {\n",
       "        vertical-align: middle;\n",
       "    }\n",
       "\n",
       "    .dataframe tbody tr th {\n",
       "        vertical-align: top;\n",
       "    }\n",
       "\n",
       "    .dataframe thead th {\n",
       "        text-align: right;\n",
       "    }\n",
       "</style>\n",
       "<table border=\"1\" class=\"dataframe\">\n",
       "  <thead>\n",
       "    <tr style=\"text-align: right;\">\n",
       "      <th></th>\n",
       "      <th>pelvic_incidence</th>\n",
       "      <th>pelvic_tilt</th>\n",
       "      <th>lumbar_lordosis_angle</th>\n",
       "      <th>sacral_slope</th>\n",
       "      <th>pelvic_radius</th>\n",
       "      <th>degree_spondylolisthesis</th>\n",
       "      <th>class</th>\n",
       "    </tr>\n",
       "  </thead>\n",
       "  <tbody>\n",
       "    <tr>\n",
       "      <th>210</th>\n",
       "      <td>38.505273</td>\n",
       "      <td>16.964297</td>\n",
       "      <td>35.112814</td>\n",
       "      <td>21.540976</td>\n",
       "      <td>127.632875</td>\n",
       "      <td>7.986683</td>\n",
       "      <td>0</td>\n",
       "    </tr>\n",
       "    <tr>\n",
       "      <th>211</th>\n",
       "      <td>54.920858</td>\n",
       "      <td>18.968430</td>\n",
       "      <td>51.601455</td>\n",
       "      <td>35.952428</td>\n",
       "      <td>125.846646</td>\n",
       "      <td>2.001642</td>\n",
       "      <td>0</td>\n",
       "    </tr>\n",
       "    <tr>\n",
       "      <th>212</th>\n",
       "      <td>44.362490</td>\n",
       "      <td>8.945435</td>\n",
       "      <td>46.902096</td>\n",
       "      <td>35.417055</td>\n",
       "      <td>129.220682</td>\n",
       "      <td>4.994195</td>\n",
       "      <td>0</td>\n",
       "    </tr>\n",
       "    <tr>\n",
       "      <th>213</th>\n",
       "      <td>48.318931</td>\n",
       "      <td>17.452121</td>\n",
       "      <td>48.000000</td>\n",
       "      <td>30.866809</td>\n",
       "      <td>128.980308</td>\n",
       "      <td>-0.910941</td>\n",
       "      <td>0</td>\n",
       "    </tr>\n",
       "    <tr>\n",
       "      <th>214</th>\n",
       "      <td>45.701789</td>\n",
       "      <td>10.659859</td>\n",
       "      <td>42.577846</td>\n",
       "      <td>35.041929</td>\n",
       "      <td>130.178314</td>\n",
       "      <td>-3.388910</td>\n",
       "      <td>0</td>\n",
       "    </tr>\n",
       "    <tr>\n",
       "      <th>...</th>\n",
       "      <td>...</td>\n",
       "      <td>...</td>\n",
       "      <td>...</td>\n",
       "      <td>...</td>\n",
       "      <td>...</td>\n",
       "      <td>...</td>\n",
       "      <td>...</td>\n",
       "    </tr>\n",
       "    <tr>\n",
       "      <th>135</th>\n",
       "      <td>77.121344</td>\n",
       "      <td>30.349874</td>\n",
       "      <td>77.481083</td>\n",
       "      <td>46.771470</td>\n",
       "      <td>110.611148</td>\n",
       "      <td>82.093607</td>\n",
       "      <td>1</td>\n",
       "    </tr>\n",
       "    <tr>\n",
       "      <th>136</th>\n",
       "      <td>88.024499</td>\n",
       "      <td>39.844669</td>\n",
       "      <td>81.774473</td>\n",
       "      <td>48.179830</td>\n",
       "      <td>116.601538</td>\n",
       "      <td>56.766083</td>\n",
       "      <td>1</td>\n",
       "    </tr>\n",
       "    <tr>\n",
       "      <th>137</th>\n",
       "      <td>83.396606</td>\n",
       "      <td>34.310989</td>\n",
       "      <td>78.423293</td>\n",
       "      <td>49.085617</td>\n",
       "      <td>110.466516</td>\n",
       "      <td>49.672096</td>\n",
       "      <td>1</td>\n",
       "    </tr>\n",
       "    <tr>\n",
       "      <th>138</th>\n",
       "      <td>72.054034</td>\n",
       "      <td>24.700737</td>\n",
       "      <td>79.874016</td>\n",
       "      <td>47.353297</td>\n",
       "      <td>107.172358</td>\n",
       "      <td>56.426159</td>\n",
       "      <td>1</td>\n",
       "    </tr>\n",
       "    <tr>\n",
       "      <th>139</th>\n",
       "      <td>85.095503</td>\n",
       "      <td>21.069897</td>\n",
       "      <td>91.734792</td>\n",
       "      <td>64.025606</td>\n",
       "      <td>109.062312</td>\n",
       "      <td>38.032831</td>\n",
       "      <td>1</td>\n",
       "    </tr>\n",
       "  </tbody>\n",
       "</table>\n",
       "<p>210 rows × 7 columns</p>\n",
       "</div>"
      ],
      "text/plain": [
       "     pelvic_incidence  pelvic_tilt  lumbar_lordosis_angle  sacral_slope  \\\n",
       "210         38.505273    16.964297              35.112814     21.540976   \n",
       "211         54.920858    18.968430              51.601455     35.952428   \n",
       "212         44.362490     8.945435              46.902096     35.417055   \n",
       "213         48.318931    17.452121              48.000000     30.866809   \n",
       "214         45.701789    10.659859              42.577846     35.041929   \n",
       "..                ...          ...                    ...           ...   \n",
       "135         77.121344    30.349874              77.481083     46.771470   \n",
       "136         88.024499    39.844669              81.774473     48.179830   \n",
       "137         83.396606    34.310989              78.423293     49.085617   \n",
       "138         72.054034    24.700737              79.874016     47.353297   \n",
       "139         85.095503    21.069897              91.734792     64.025606   \n",
       "\n",
       "     pelvic_radius  degree_spondylolisthesis  class  \n",
       "210     127.632875                  7.986683      0  \n",
       "211     125.846646                  2.001642      0  \n",
       "212     129.220682                  4.994195      0  \n",
       "213     128.980308                 -0.910941      0  \n",
       "214     130.178314                 -3.388910      0  \n",
       "..             ...                       ...    ...  \n",
       "135     110.611148                 82.093607      1  \n",
       "136     116.601538                 56.766083      1  \n",
       "137     110.466516                 49.672096      1  \n",
       "138     107.172358                 56.426159      1  \n",
       "139     109.062312                 38.032831      1  \n",
       "\n",
       "[210 rows x 7 columns]"
      ]
     },
     "execution_count": 23,
     "metadata": {},
     "output_type": "execute_result"
    }
   ],
   "source": [
    "X"
   ]
  },
  {
   "cell_type": "code",
   "execution_count": 24,
   "id": "04dd4127",
   "metadata": {},
   "outputs": [],
   "source": [
    "euc_list=[]\n",
    "i_list=[]\n",
    "class_list=[]\n",
    "for i in range(len(X)):\n",
    "    i_list.append(i)\n",
    "    euc_list.append(euclidean_distances(X_train.iloc[:1], X_train.iloc[i:i+1]))\n",
    "    class_list.append(X.iloc[i,6])"
   ]
  },
  {
   "cell_type": "code",
   "execution_count": 25,
   "id": "ff71ed8d",
   "metadata": {},
   "outputs": [
    {
     "data": {
      "text/html": [
       "<div>\n",
       "<style scoped>\n",
       "    .dataframe tbody tr th:only-of-type {\n",
       "        vertical-align: middle;\n",
       "    }\n",
       "\n",
       "    .dataframe tbody tr th {\n",
       "        vertical-align: top;\n",
       "    }\n",
       "\n",
       "    .dataframe thead th {\n",
       "        text-align: right;\n",
       "    }\n",
       "</style>\n",
       "<table border=\"1\" class=\"dataframe\">\n",
       "  <thead>\n",
       "    <tr style=\"text-align: right;\">\n",
       "      <th></th>\n",
       "      <th>i</th>\n",
       "      <th>Distance</th>\n",
       "      <th>classes</th>\n",
       "    </tr>\n",
       "  </thead>\n",
       "  <tbody>\n",
       "    <tr>\n",
       "      <th>0</th>\n",
       "      <td>0</td>\n",
       "      <td>[[0.0]]</td>\n",
       "      <td>0</td>\n",
       "    </tr>\n",
       "    <tr>\n",
       "      <th>1</th>\n",
       "      <td>1</td>\n",
       "      <td>[[28.143641157809387]]</td>\n",
       "      <td>0</td>\n",
       "    </tr>\n",
       "    <tr>\n",
       "      <th>2</th>\n",
       "      <td>2</td>\n",
       "      <td>[[21.01470942171666]]</td>\n",
       "      <td>0</td>\n",
       "    </tr>\n",
       "    <tr>\n",
       "      <th>3</th>\n",
       "      <td>3</td>\n",
       "      <td>[[20.750418468779138]]</td>\n",
       "      <td>0</td>\n",
       "    </tr>\n",
       "    <tr>\n",
       "      <th>4</th>\n",
       "      <td>4</td>\n",
       "      <td>[[21.573632313470362]]</td>\n",
       "      <td>0</td>\n",
       "    </tr>\n",
       "    <tr>\n",
       "      <th>...</th>\n",
       "      <td>...</td>\n",
       "      <td>...</td>\n",
       "      <td>...</td>\n",
       "    </tr>\n",
       "    <tr>\n",
       "      <th>205</th>\n",
       "      <td>205</td>\n",
       "      <td>[[99.41628630078036]]</td>\n",
       "      <td>1</td>\n",
       "    </tr>\n",
       "    <tr>\n",
       "      <th>206</th>\n",
       "      <td>206</td>\n",
       "      <td>[[91.45340018283706]]</td>\n",
       "      <td>1</td>\n",
       "    </tr>\n",
       "    <tr>\n",
       "      <th>207</th>\n",
       "      <td>207</td>\n",
       "      <td>[[83.56435731955082]]</td>\n",
       "      <td>1</td>\n",
       "    </tr>\n",
       "    <tr>\n",
       "      <th>208</th>\n",
       "      <td>208</td>\n",
       "      <td>[[81.36478684752893]]</td>\n",
       "      <td>1</td>\n",
       "    </tr>\n",
       "    <tr>\n",
       "      <th>209</th>\n",
       "      <td>209</td>\n",
       "      <td>[[91.9028531957338]]</td>\n",
       "      <td>1</td>\n",
       "    </tr>\n",
       "  </tbody>\n",
       "</table>\n",
       "<p>210 rows × 3 columns</p>\n",
       "</div>"
      ],
      "text/plain": [
       "       i                Distance  classes\n",
       "0      0                 [[0.0]]        0\n",
       "1      1  [[28.143641157809387]]        0\n",
       "2      2   [[21.01470942171666]]        0\n",
       "3      3  [[20.750418468779138]]        0\n",
       "4      4  [[21.573632313470362]]        0\n",
       "..   ...                     ...      ...\n",
       "205  205   [[99.41628630078036]]        1\n",
       "206  206   [[91.45340018283706]]        1\n",
       "207  207   [[83.56435731955082]]        1\n",
       "208  208   [[81.36478684752893]]        1\n",
       "209  209    [[91.9028531957338]]        1\n",
       "\n",
       "[210 rows x 3 columns]"
      ]
     },
     "execution_count": 25,
     "metadata": {},
     "output_type": "execute_result"
    }
   ],
   "source": [
    "df15 = pd.DataFrame()\n",
    "df15 = df15.assign(i = i_list, Distance = euc_list, classes = class_list )\n",
    "df15"
   ]
  },
  {
   "cell_type": "code",
   "execution_count": 26,
   "id": "59a25689",
   "metadata": {},
   "outputs": [],
   "source": [
    "df15 = df15.sort_values(by = ['Distance'])"
   ]
  },
  {
   "cell_type": "code",
   "execution_count": 27,
   "id": "af5ae590",
   "metadata": {},
   "outputs": [
    {
     "data": {
      "text/html": [
       "<div>\n",
       "<style scoped>\n",
       "    .dataframe tbody tr th:only-of-type {\n",
       "        vertical-align: middle;\n",
       "    }\n",
       "\n",
       "    .dataframe tbody tr th {\n",
       "        vertical-align: top;\n",
       "    }\n",
       "\n",
       "    .dataframe thead th {\n",
       "        text-align: right;\n",
       "    }\n",
       "</style>\n",
       "<table border=\"1\" class=\"dataframe\">\n",
       "  <thead>\n",
       "    <tr style=\"text-align: right;\">\n",
       "      <th></th>\n",
       "      <th>i</th>\n",
       "      <th>Distance</th>\n",
       "      <th>classes</th>\n",
       "    </tr>\n",
       "  </thead>\n",
       "  <tbody>\n",
       "    <tr>\n",
       "      <th>0</th>\n",
       "      <td>0</td>\n",
       "      <td>[[0.0]]</td>\n",
       "      <td>0</td>\n",
       "    </tr>\n",
       "    <tr>\n",
       "      <th>103</th>\n",
       "      <td>103</td>\n",
       "      <td>[[9.59931829074316]]</td>\n",
       "      <td>1</td>\n",
       "    </tr>\n",
       "    <tr>\n",
       "      <th>88</th>\n",
       "      <td>88</td>\n",
       "      <td>[[10.30213508748804]]</td>\n",
       "      <td>1</td>\n",
       "    </tr>\n",
       "    <tr>\n",
       "      <th>61</th>\n",
       "      <td>61</td>\n",
       "      <td>[[11.505454805868071]]</td>\n",
       "      <td>0</td>\n",
       "    </tr>\n",
       "    <tr>\n",
       "      <th>59</th>\n",
       "      <td>59</td>\n",
       "      <td>[[11.559018826070197]]</td>\n",
       "      <td>0</td>\n",
       "    </tr>\n",
       "    <tr>\n",
       "      <th>118</th>\n",
       "      <td>118</td>\n",
       "      <td>[[11.901544498630463]]</td>\n",
       "      <td>1</td>\n",
       "    </tr>\n",
       "  </tbody>\n",
       "</table>\n",
       "</div>"
      ],
      "text/plain": [
       "       i                Distance  classes\n",
       "0      0                 [[0.0]]        0\n",
       "103  103    [[9.59931829074316]]        1\n",
       "88    88   [[10.30213508748804]]        1\n",
       "61    61  [[11.505454805868071]]        0\n",
       "59    59  [[11.559018826070197]]        0\n",
       "118  118  [[11.901544498630463]]        1"
      ]
     },
     "execution_count": 27,
     "metadata": {},
     "output_type": "execute_result"
    }
   ],
   "source": [
    "df15.head(6)"
   ]
  },
  {
   "cell_type": "markdown",
   "id": "0af44da1",
   "metadata": {},
   "source": [
    "### The table above shows the distances of the points that's close to the first row from training data."
   ]
  },
  {
   "cell_type": "markdown",
   "id": "765a6e3e",
   "metadata": {},
   "source": [
    "## ii.) Test all the data in the test database with k nearest neighbors. Take decisions by majority polling. Plot train and test errors in terms of k for k ∈ {208, 205, . . . , 7, 4, 1, } (in reverse order). You are welcome to use smaller increments of k. Which k∗ is the most suitable k among those values? Calculate the confusion matrix, true positive rate, true negative rate, precision, and F1-score when k = k∗.2"
   ]
  },
  {
   "cell_type": "code",
   "execution_count": 28,
   "id": "ff94f40c",
   "metadata": {},
   "outputs": [],
   "source": [
    "# Make the list of the range of k\n",
    "k = list(range(1,209, 3))\n",
    "k.reverse()"
   ]
  },
  {
   "cell_type": "code",
   "execution_count": 29,
   "id": "1f66c489",
   "metadata": {},
   "outputs": [],
   "source": [
    "accuracy = []\n",
    "train_scores = []\n",
    "test_scores = []"
   ]
  },
  {
   "cell_type": "code",
   "execution_count": 30,
   "id": "2bd4f5a9",
   "metadata": {},
   "outputs": [],
   "source": [
    "for i, val in enumerate(k):\n",
    "    knn = KNeighborsClassifier(n_neighbors = val, p = 2, metric = 'euclidean')\n",
    "    knn.fit(X_train, y_train)\n",
    "    y_pred = knn.predict(X_test)\n",
    "    train_score = knn.score(X_train,y_train)\n",
    "    test_score = knn.score(X_test,y_test)\n",
    "    train_score1 = 1 - train_score\n",
    "    test_score1 = 1 - test_score\n",
    "    train_scores.append(train_score1)\n",
    "    test_scores.append(test_score1)"
   ]
  },
  {
   "cell_type": "code",
   "execution_count": 31,
   "id": "bf60474b",
   "metadata": {},
   "outputs": [
    {
     "data": {
      "text/plain": [
       "(208.0, 0.0)"
      ]
     },
     "execution_count": 31,
     "metadata": {},
     "output_type": "execute_result"
    },
    {
     "data": {
      "image/png": "[encoded data removed]",
      "text/plain": [
       "<Figure size 432x288 with 1 Axes>"
      ]
     },
     "metadata": {
      "needs_background": "light"
     },
     "output_type": "display_data"
    }
   ],
   "source": [
    "#Plot train and test error\n",
    "plt.plot(k, train_scores, color='red',label='Training error')\n",
    "plt.plot(k, test_scores, color='blue',label='Testing error')\n",
    "plt.xlabel('K values')\n",
    "plt.ylabel('Error rate')\n",
    "plt.legend()\n",
    "plt.grid()\n",
    "plt.title('Performace Under Varying K Values') \n",
    "plt.xlim(208, 0)"
   ]
  },
  {
   "cell_type": "markdown",
   "id": "53666135",
   "metadata": {},
   "source": [
    "### The graph shown above is the training and testing error rate with their corresponding K values."
   ]
  },
  {
   "cell_type": "code",
   "execution_count": 32,
   "id": "76d8fda3",
   "metadata": {},
   "outputs": [
    {
     "data": {
      "text/html": [
       "<div>\n",
       "<style scoped>\n",
       "    .dataframe tbody tr th:only-of-type {\n",
       "        vertical-align: middle;\n",
       "    }\n",
       "\n",
       "    .dataframe tbody tr th {\n",
       "        vertical-align: top;\n",
       "    }\n",
       "\n",
       "    .dataframe thead th {\n",
       "        text-align: right;\n",
       "    }\n",
       "</style>\n",
       "<table border=\"1\" class=\"dataframe\">\n",
       "  <thead>\n",
       "    <tr style=\"text-align: right;\">\n",
       "      <th></th>\n",
       "      <th>k</th>\n",
       "      <th>test_error</th>\n",
       "    </tr>\n",
       "  </thead>\n",
       "  <tbody>\n",
       "    <tr>\n",
       "      <th>0</th>\n",
       "      <td>208</td>\n",
       "      <td>0.30</td>\n",
       "    </tr>\n",
       "    <tr>\n",
       "      <th>1</th>\n",
       "      <td>205</td>\n",
       "      <td>0.30</td>\n",
       "    </tr>\n",
       "    <tr>\n",
       "      <th>2</th>\n",
       "      <td>202</td>\n",
       "      <td>0.30</td>\n",
       "    </tr>\n",
       "    <tr>\n",
       "      <th>3</th>\n",
       "      <td>199</td>\n",
       "      <td>0.30</td>\n",
       "    </tr>\n",
       "    <tr>\n",
       "      <th>4</th>\n",
       "      <td>196</td>\n",
       "      <td>0.30</td>\n",
       "    </tr>\n",
       "    <tr>\n",
       "      <th>...</th>\n",
       "      <td>...</td>\n",
       "      <td>...</td>\n",
       "    </tr>\n",
       "    <tr>\n",
       "      <th>65</th>\n",
       "      <td>13</td>\n",
       "      <td>0.12</td>\n",
       "    </tr>\n",
       "    <tr>\n",
       "      <th>66</th>\n",
       "      <td>10</td>\n",
       "      <td>0.10</td>\n",
       "    </tr>\n",
       "    <tr>\n",
       "      <th>67</th>\n",
       "      <td>7</td>\n",
       "      <td>0.12</td>\n",
       "    </tr>\n",
       "    <tr>\n",
       "      <th>68</th>\n",
       "      <td>4</td>\n",
       "      <td>0.06</td>\n",
       "    </tr>\n",
       "    <tr>\n",
       "      <th>69</th>\n",
       "      <td>1</td>\n",
       "      <td>0.13</td>\n",
       "    </tr>\n",
       "  </tbody>\n",
       "</table>\n",
       "<p>70 rows × 2 columns</p>\n",
       "</div>"
      ],
      "text/plain": [
       "      k  test_error\n",
       "0   208        0.30\n",
       "1   205        0.30\n",
       "2   202        0.30\n",
       "3   199        0.30\n",
       "4   196        0.30\n",
       "..  ...         ...\n",
       "65   13        0.12\n",
       "66   10        0.10\n",
       "67    7        0.12\n",
       "68    4        0.06\n",
       "69    1        0.13\n",
       "\n",
       "[70 rows x 2 columns]"
      ]
     },
     "execution_count": 32,
     "metadata": {},
     "output_type": "execute_result"
    }
   ],
   "source": [
    "df2 = pd.DataFrame()\n",
    "df2 = df2.assign(k = k, test_error = test_scores)\n",
    "df2"
   ]
  },
  {
   "cell_type": "code",
   "execution_count": 33,
   "id": "74b96211",
   "metadata": {},
   "outputs": [
    {
     "data": {
      "text/plain": [
       "k             4.00\n",
       "test_error    0.06\n",
       "Name: 68, dtype: float64"
      ]
     },
     "execution_count": 33,
     "metadata": {},
     "output_type": "execute_result"
    }
   ],
   "source": [
    "# highest accuracy rate, and corresponding k value\n",
    "df2.loc[df2['test_error'].idxmin()]"
   ]
  },
  {
   "cell_type": "code",
   "execution_count": 34,
   "id": "91113b22",
   "metadata": {},
   "outputs": [],
   "source": [
    "# Knn for k = 4\n",
    "knn = KNeighborsClassifier(n_neighbors = 4, p = 2, metric = 'euclidean')\n",
    "knn.fit(X_train, y_train)\n",
    "y_pred = knn.predict(X_test)"
   ]
  },
  {
   "cell_type": "code",
   "execution_count": 35,
   "id": "b9a67cd7",
   "metadata": {},
   "outputs": [
    {
     "data": {
      "text/html": [
       "<div>\n",
       "<style scoped>\n",
       "    .dataframe tbody tr th:only-of-type {\n",
       "        vertical-align: middle;\n",
       "    }\n",
       "\n",
       "    .dataframe tbody tr th {\n",
       "        vertical-align: top;\n",
       "    }\n",
       "\n",
       "    .dataframe thead th {\n",
       "        text-align: right;\n",
       "    }\n",
       "</style>\n",
       "<table border=\"1\" class=\"dataframe\">\n",
       "  <thead>\n",
       "    <tr style=\"text-align: right;\">\n",
       "      <th></th>\n",
       "      <th>0</th>\n",
       "      <th>1</th>\n",
       "    </tr>\n",
       "  </thead>\n",
       "  <tbody>\n",
       "    <tr>\n",
       "      <th>0</th>\n",
       "      <td>25</td>\n",
       "      <td>5</td>\n",
       "    </tr>\n",
       "    <tr>\n",
       "      <th>1</th>\n",
       "      <td>1</td>\n",
       "      <td>69</td>\n",
       "    </tr>\n",
       "  </tbody>\n",
       "</table>\n",
       "</div>"
      ],
      "text/plain": [
       "    0   1\n",
       "0  25   5\n",
       "1   1  69"
      ]
     },
     "execution_count": 35,
     "metadata": {},
     "output_type": "execute_result"
    }
   ],
   "source": [
    "# confusion matrix for knn when k = 4\n",
    "cm1 = confusion_matrix(y_test, y_pred)\n",
    "pd.DataFrame(cm1)\n",
    "#True positive 25% and true negative rate is 69%"
   ]
  },
  {
   "cell_type": "code",
   "execution_count": 36,
   "id": "a500652f",
   "metadata": {},
   "outputs": [],
   "source": [
    "True_P = 69/ (1+69)\n",
    "True_N = 25 / (25+5) "
   ]
  },
  {
   "cell_type": "code",
   "execution_count": 37,
   "id": "8709eae7",
   "metadata": {},
   "outputs": [],
   "source": [
    "#Precision\n",
    "Precision = precision_score(y_test, y_pred)"
   ]
  },
  {
   "cell_type": "code",
   "execution_count": 38,
   "id": "7d73748d",
   "metadata": {},
   "outputs": [],
   "source": [
    "#F1 score\n",
    "f1 = f1_score(y_test, y_pred)"
   ]
  },
  {
   "cell_type": "code",
   "execution_count": 39,
   "id": "5a0f2679",
   "metadata": {},
   "outputs": [
    {
     "name": "stdout",
     "output_type": "stream",
     "text": [
      "True_P rate: 0.9857142857142858\n",
      "True_N rate: 0.8333333333333334\n",
      "Precision: 0.9324324324324325\n",
      "F1_score: 0.9583333333333333\n"
     ]
    }
   ],
   "source": [
    "print('True_P rate:', True_P)\n",
    "print('True_N rate:', True_N)\n",
    "print('Precision:', Precision)\n",
    "print('F1_score:', f1)"
   ]
  },
  {
   "cell_type": "markdown",
   "id": "e0866cce",
   "metadata": {},
   "source": [
    "### The true positive rate is about 0.99, true negative rate is about 0.833, prcision is about 0.93 and the F1 score is about 0.958"
   ]
  },
  {
   "cell_type": "markdown",
   "id": "44f7c614",
   "metadata": {},
   "source": [
    "## iii.) Since the computation time depends on the size of the training set, one may only use a subset of the training set. Plot the best test error rate, which is obtained by some value of k, against the size of training set, when the size of training set is N ∈ {10,20,30,...,210}. Note: for each N, select your training set by choosing the first ⌊N/3⌋ rows of Class 0 and the first N − ⌊N/3⌋ rows of Class 1 in the training set you created in 1(b)iii. Also, for each N, select the optimal k from a set starting from k = 1, increasing by 5. For example, if N = 200, the optimal k is selected from {1,6,11,...,196}. This plot is called a Learning Curve."
   ]
  },
  {
   "cell_type": "code",
   "execution_count": 40,
   "id": "9de8dec8",
   "metadata": {},
   "outputs": [],
   "source": [
    "# Make range for K\n",
    "# k = list(range(1,207, 5))\n",
    "k = list(range(1, 207, 5))"
   ]
  },
  {
   "cell_type": "code",
   "execution_count": 41,
   "id": "adbce8d1",
   "metadata": {},
   "outputs": [],
   "source": [
    "# Make range for N\n",
    "# N = list(range(10, 211, 10))\n",
    "N = list(range(10, 211, 10))"
   ]
  },
  {
   "cell_type": "code",
   "execution_count": 42,
   "id": "05b64e41",
   "metadata": {},
   "outputs": [],
   "source": [
    "#for i, val in enumerate(N):\n",
    "#    i1 = 0\n",
    "#    while k[i1] < N[i]:\n",
    "#        print(N[i] - k[i1])\n",
    "#        \n",
    "#        if i1 <= len(k):\n",
    "#            i1 += 1\n",
    "#            if i1 == len(k):\n",
    "#                break\n",
    "#                break"
   ]
  },
  {
   "cell_type": "code",
   "execution_count": 43,
   "id": "460e4ba1",
   "metadata": {},
   "outputs": [],
   "source": [
    "accuracy2 = []\n",
    "k1 = []\n",
    "N1 = []\n",
    "train_scores = []\n",
    "test_scores = []"
   ]
  },
  {
   "cell_type": "code",
   "execution_count": 44,
   "id": "d76914f9",
   "metadata": {},
   "outputs": [],
   "source": [
    "#train1 = NO.iloc[:6]\n",
    "#train2 = AB.iloc[:6]\n",
    "#X = pd.concat([train1,train2])\n",
    "#X_train = X.drop(['class'], axis = 1)\n",
    "#y_train = X['class']\n",
    "#knn = KNeighborsClassifier(n_neighbors = 16, p = 2, metric = 'euclidean')\n",
    "#knn.fit(X_train, y_train)"
   ]
  },
  {
   "cell_type": "code",
   "execution_count": 45,
   "id": "bd9f2872",
   "metadata": {},
   "outputs": [],
   "source": [
    "for i, val in enumerate(N):\n",
    "    i1 = 0\n",
    "    while k[i1] < N[i]:\n",
    "        r = N[i]/3\n",
    "        r = int(r)\n",
    "        r1 = N[i] - r\n",
    "        train1 = NO.iloc[:r]\n",
    "        train2 = AB.iloc[:r1]\n",
    "        #r = N[i]/3\n",
    "        #r = int(r)\n",
    "        #train1 = NO.iloc[:r]\n",
    "        #train2 = AB.iloc[:r]\n",
    "        X = pd.concat([train1,train2])\n",
    "#       if len(X) >= k[i1]: #n_sample has to be bigger than n_neighbor\n",
    "        X_train1 = X.drop(['class'], axis = 1)\n",
    "        y_train1 = X['class']\n",
    "\n",
    "        knn = KNeighborsClassifier(n_neighbors = k[i1], p = 2, metric = 'euclidean')\n",
    "        knn.fit(X_train1, y_train1)\n",
    "\n",
    "        train_score = knn.score(X_train1,y_train1)\n",
    "        test_score = knn.score(X_test,y_test)\n",
    "        train_score1 = 1 - train_score\n",
    "        test_score1 = 1 - test_score\n",
    "\n",
    "          \n",
    "        k1.append(k[i1])\n",
    "        N1.append(N[i])\n",
    "        train_scores.append(train_score1)\n",
    "        test_scores.append(test_score1)\n",
    "        \n",
    "        if i1 <= len(k):\n",
    "            i1 += 1\n",
    "            if i1 == len(k):\n",
    "                break\n",
    "        else:\n",
    "            break\n",
    "    df3 = pd.DataFrame()\n",
    "    df3 = df3.assign(N = N1, k = k1, \n",
    "                     train_error = train_scores, test_error = test_scores)"
   ]
  },
  {
   "cell_type": "code",
   "execution_count": 46,
   "id": "bbf4f1a8",
   "metadata": {},
   "outputs": [
    {
     "data": {
      "text/html": [
       "<div>\n",
       "<style scoped>\n",
       "    .dataframe tbody tr th:only-of-type {\n",
       "        vertical-align: middle;\n",
       "    }\n",
       "\n",
       "    .dataframe tbody tr th {\n",
       "        vertical-align: top;\n",
       "    }\n",
       "\n",
       "    .dataframe thead th {\n",
       "        text-align: right;\n",
       "    }\n",
       "</style>\n",
       "<table border=\"1\" class=\"dataframe\">\n",
       "  <thead>\n",
       "    <tr style=\"text-align: right;\">\n",
       "      <th></th>\n",
       "      <th>N</th>\n",
       "      <th>k</th>\n",
       "      <th>train_error</th>\n",
       "      <th>test_error</th>\n",
       "    </tr>\n",
       "  </thead>\n",
       "  <tbody>\n",
       "    <tr>\n",
       "      <th>0</th>\n",
       "      <td>10</td>\n",
       "      <td>1</td>\n",
       "      <td>0.000000</td>\n",
       "      <td>0.25</td>\n",
       "    </tr>\n",
       "    <tr>\n",
       "      <th>1</th>\n",
       "      <td>10</td>\n",
       "      <td>6</td>\n",
       "      <td>0.100000</td>\n",
       "      <td>0.33</td>\n",
       "    </tr>\n",
       "    <tr>\n",
       "      <th>2</th>\n",
       "      <td>20</td>\n",
       "      <td>1</td>\n",
       "      <td>0.000000</td>\n",
       "      <td>0.22</td>\n",
       "    </tr>\n",
       "    <tr>\n",
       "      <th>3</th>\n",
       "      <td>20</td>\n",
       "      <td>6</td>\n",
       "      <td>0.150000</td>\n",
       "      <td>0.20</td>\n",
       "    </tr>\n",
       "    <tr>\n",
       "      <th>4</th>\n",
       "      <td>20</td>\n",
       "      <td>11</td>\n",
       "      <td>0.300000</td>\n",
       "      <td>0.29</td>\n",
       "    </tr>\n",
       "    <tr>\n",
       "      <th>5</th>\n",
       "      <td>20</td>\n",
       "      <td>16</td>\n",
       "      <td>0.300000</td>\n",
       "      <td>0.30</td>\n",
       "    </tr>\n",
       "    <tr>\n",
       "      <th>6</th>\n",
       "      <td>30</td>\n",
       "      <td>1</td>\n",
       "      <td>0.000000</td>\n",
       "      <td>0.22</td>\n",
       "    </tr>\n",
       "    <tr>\n",
       "      <th>7</th>\n",
       "      <td>30</td>\n",
       "      <td>6</td>\n",
       "      <td>0.133333</td>\n",
       "      <td>0.24</td>\n",
       "    </tr>\n",
       "    <tr>\n",
       "      <th>8</th>\n",
       "      <td>30</td>\n",
       "      <td>11</td>\n",
       "      <td>0.166667</td>\n",
       "      <td>0.26</td>\n",
       "    </tr>\n",
       "    <tr>\n",
       "      <th>9</th>\n",
       "      <td>30</td>\n",
       "      <td>16</td>\n",
       "      <td>0.233333</td>\n",
       "      <td>0.26</td>\n",
       "    </tr>\n",
       "  </tbody>\n",
       "</table>\n",
       "</div>"
      ],
      "text/plain": [
       "    N   k  train_error  test_error\n",
       "0  10   1     0.000000        0.25\n",
       "1  10   6     0.100000        0.33\n",
       "2  20   1     0.000000        0.22\n",
       "3  20   6     0.150000        0.20\n",
       "4  20  11     0.300000        0.29\n",
       "5  20  16     0.300000        0.30\n",
       "6  30   1     0.000000        0.22\n",
       "7  30   6     0.133333        0.24\n",
       "8  30  11     0.166667        0.26\n",
       "9  30  16     0.233333        0.26"
      ]
     },
     "execution_count": 46,
     "metadata": {},
     "output_type": "execute_result"
    }
   ],
   "source": [
    "df3.head(10)"
   ]
  },
  {
   "cell_type": "code",
   "execution_count": 47,
   "id": "2c339974",
   "metadata": {},
   "outputs": [],
   "source": [
    "df4 = pd.DataFrame()\n",
    "df5 = pd.DataFrame()"
   ]
  },
  {
   "cell_type": "code",
   "execution_count": 48,
   "id": "ddfa0dca",
   "metadata": {},
   "outputs": [],
   "source": [
    "for i in N:\n",
    "    df4 = df3.loc[df3['N'] == i]\n",
    "    df4 = df4.loc[df4['test_error'].idxmin()]\n",
    "    df5 = df5.append(df4)"
   ]
  },
  {
   "cell_type": "code",
   "execution_count": 49,
   "id": "38155662",
   "metadata": {},
   "outputs": [
    {
     "data": {
      "text/html": [
       "<div>\n",
       "<style scoped>\n",
       "    .dataframe tbody tr th:only-of-type {\n",
       "        vertical-align: middle;\n",
       "    }\n",
       "\n",
       "    .dataframe tbody tr th {\n",
       "        vertical-align: top;\n",
       "    }\n",
       "\n",
       "    .dataframe thead th {\n",
       "        text-align: right;\n",
       "    }\n",
       "</style>\n",
       "<table border=\"1\" class=\"dataframe\">\n",
       "  <thead>\n",
       "    <tr style=\"text-align: right;\">\n",
       "      <th></th>\n",
       "      <th>N</th>\n",
       "      <th>k</th>\n",
       "      <th>test_error</th>\n",
       "      <th>train_error</th>\n",
       "    </tr>\n",
       "  </thead>\n",
       "  <tbody>\n",
       "    <tr>\n",
       "      <th>0</th>\n",
       "      <td>10.0</td>\n",
       "      <td>1.0</td>\n",
       "      <td>0.25</td>\n",
       "      <td>0.000000</td>\n",
       "    </tr>\n",
       "    <tr>\n",
       "      <th>3</th>\n",
       "      <td>20.0</td>\n",
       "      <td>6.0</td>\n",
       "      <td>0.20</td>\n",
       "      <td>0.150000</td>\n",
       "    </tr>\n",
       "    <tr>\n",
       "      <th>6</th>\n",
       "      <td>30.0</td>\n",
       "      <td>1.0</td>\n",
       "      <td>0.22</td>\n",
       "      <td>0.000000</td>\n",
       "    </tr>\n",
       "    <tr>\n",
       "      <th>14</th>\n",
       "      <td>40.0</td>\n",
       "      <td>11.0</td>\n",
       "      <td>0.25</td>\n",
       "      <td>0.200000</td>\n",
       "    </tr>\n",
       "    <tr>\n",
       "      <th>25</th>\n",
       "      <td>50.0</td>\n",
       "      <td>26.0</td>\n",
       "      <td>0.30</td>\n",
       "      <td>0.320000</td>\n",
       "    </tr>\n",
       "    <tr>\n",
       "      <th>34</th>\n",
       "      <td>60.0</td>\n",
       "      <td>21.0</td>\n",
       "      <td>0.29</td>\n",
       "      <td>0.266667</td>\n",
       "    </tr>\n",
       "    <tr>\n",
       "      <th>47</th>\n",
       "      <td>70.0</td>\n",
       "      <td>26.0</td>\n",
       "      <td>0.29</td>\n",
       "      <td>0.271429</td>\n",
       "    </tr>\n",
       "    <tr>\n",
       "      <th>62</th>\n",
       "      <td>80.0</td>\n",
       "      <td>31.0</td>\n",
       "      <td>0.29</td>\n",
       "      <td>0.300000</td>\n",
       "    </tr>\n",
       "    <tr>\n",
       "      <th>80</th>\n",
       "      <td>90.0</td>\n",
       "      <td>41.0</td>\n",
       "      <td>0.29</td>\n",
       "      <td>0.300000</td>\n",
       "    </tr>\n",
       "    <tr>\n",
       "      <th>91</th>\n",
       "      <td>100.0</td>\n",
       "      <td>6.0</td>\n",
       "      <td>0.26</td>\n",
       "      <td>0.180000</td>\n",
       "    </tr>\n",
       "    <tr>\n",
       "      <th>111</th>\n",
       "      <td>110.0</td>\n",
       "      <td>6.0</td>\n",
       "      <td>0.22</td>\n",
       "      <td>0.190909</td>\n",
       "    </tr>\n",
       "    <tr>\n",
       "      <th>135</th>\n",
       "      <td>120.0</td>\n",
       "      <td>16.0</td>\n",
       "      <td>0.17</td>\n",
       "      <td>0.191667</td>\n",
       "    </tr>\n",
       "    <tr>\n",
       "      <th>159</th>\n",
       "      <td>130.0</td>\n",
       "      <td>16.0</td>\n",
       "      <td>0.16</td>\n",
       "      <td>0.184615</td>\n",
       "    </tr>\n",
       "    <tr>\n",
       "      <th>185</th>\n",
       "      <td>140.0</td>\n",
       "      <td>16.0</td>\n",
       "      <td>0.15</td>\n",
       "      <td>0.185714</td>\n",
       "    </tr>\n",
       "    <tr>\n",
       "      <th>213</th>\n",
       "      <td>150.0</td>\n",
       "      <td>16.0</td>\n",
       "      <td>0.13</td>\n",
       "      <td>0.180000</td>\n",
       "    </tr>\n",
       "    <tr>\n",
       "      <th>241</th>\n",
       "      <td>160.0</td>\n",
       "      <td>6.0</td>\n",
       "      <td>0.13</td>\n",
       "      <td>0.175000</td>\n",
       "    </tr>\n",
       "    <tr>\n",
       "      <th>273</th>\n",
       "      <td>170.0</td>\n",
       "      <td>6.0</td>\n",
       "      <td>0.13</td>\n",
       "      <td>0.164706</td>\n",
       "    </tr>\n",
       "    <tr>\n",
       "      <th>307</th>\n",
       "      <td>180.0</td>\n",
       "      <td>6.0</td>\n",
       "      <td>0.10</td>\n",
       "      <td>0.155556</td>\n",
       "    </tr>\n",
       "    <tr>\n",
       "      <th>343</th>\n",
       "      <td>190.0</td>\n",
       "      <td>6.0</td>\n",
       "      <td>0.09</td>\n",
       "      <td>0.147368</td>\n",
       "    </tr>\n",
       "    <tr>\n",
       "      <th>381</th>\n",
       "      <td>200.0</td>\n",
       "      <td>6.0</td>\n",
       "      <td>0.09</td>\n",
       "      <td>0.155000</td>\n",
       "    </tr>\n",
       "    <tr>\n",
       "      <th>421</th>\n",
       "      <td>210.0</td>\n",
       "      <td>6.0</td>\n",
       "      <td>0.08</td>\n",
       "      <td>0.147619</td>\n",
       "    </tr>\n",
       "  </tbody>\n",
       "</table>\n",
       "</div>"
      ],
      "text/plain": [
       "         N     k  test_error  train_error\n",
       "0     10.0   1.0        0.25     0.000000\n",
       "3     20.0   6.0        0.20     0.150000\n",
       "6     30.0   1.0        0.22     0.000000\n",
       "14    40.0  11.0        0.25     0.200000\n",
       "25    50.0  26.0        0.30     0.320000\n",
       "34    60.0  21.0        0.29     0.266667\n",
       "47    70.0  26.0        0.29     0.271429\n",
       "62    80.0  31.0        0.29     0.300000\n",
       "80    90.0  41.0        0.29     0.300000\n",
       "91   100.0   6.0        0.26     0.180000\n",
       "111  110.0   6.0        0.22     0.190909\n",
       "135  120.0  16.0        0.17     0.191667\n",
       "159  130.0  16.0        0.16     0.184615\n",
       "185  140.0  16.0        0.15     0.185714\n",
       "213  150.0  16.0        0.13     0.180000\n",
       "241  160.0   6.0        0.13     0.175000\n",
       "273  170.0   6.0        0.13     0.164706\n",
       "307  180.0   6.0        0.10     0.155556\n",
       "343  190.0   6.0        0.09     0.147368\n",
       "381  200.0   6.0        0.09     0.155000\n",
       "421  210.0   6.0        0.08     0.147619"
      ]
     },
     "execution_count": 49,
     "metadata": {},
     "output_type": "execute_result"
    }
   ],
   "source": [
    "df5"
   ]
  },
  {
   "cell_type": "code",
   "execution_count": 50,
   "id": "28b3f57c",
   "metadata": {},
   "outputs": [
    {
     "data": {
      "text/plain": [
       "Text(0.5, 1.0, 'Learing Curve')"
      ]
     },
     "execution_count": 50,
     "metadata": {},
     "output_type": "execute_result"
    },
    {
     "data": {
      "image/png": "[encoded data removed]",
      "text/plain": [
       "<Figure size 432x288 with 1 Axes>"
      ]
     },
     "metadata": {
      "needs_background": "light"
     },
     "output_type": "display_data"
    }
   ],
   "source": [
    "#Plot train and test error\n",
    "plt.plot(N, df5['test_error'], color='blue', label='Testing Accuracy')\n",
    "plt.xlabel('N values')\n",
    "plt.ylabel('Error rate')\n",
    "plt.grid()\n",
    "plt.title('Learing Curve') "
   ]
  },
  {
   "cell_type": "markdown",
   "id": "869897ea",
   "metadata": {},
   "source": [
    "### The graph shown above is the learning curve"
   ]
  },
  {
   "cell_type": "markdown",
   "id": "dd3fa647",
   "metadata": {},
   "source": [
    "## (d) Replace the Euclidean metric with the following metrics and test them. Summarize the test errors (i.e., when k = k∗) in a table. Use all of your training data and select the best k when {1,6,11,...,196}."
   ]
  },
  {
   "cell_type": "markdown",
   "id": "04049f6b",
   "metadata": {},
   "source": [
    "## i.) Minkowski Distance:\n",
    "## A. which becomes Manhattan Distance with p = 1."
   ]
  },
  {
   "cell_type": "code",
   "execution_count": 51,
   "id": "a4268f15",
   "metadata": {},
   "outputs": [],
   "source": [
    "# Make the list of the range of k\n",
    "k2 = list(range(1,197, 5))"
   ]
  },
  {
   "cell_type": "code",
   "execution_count": 52,
   "id": "c9466d30",
   "metadata": {},
   "outputs": [],
   "source": [
    "train_scores1 = []\n",
    "test_scores1 = []\n",
    "k3 = []"
   ]
  },
  {
   "cell_type": "code",
   "execution_count": 53,
   "id": "2f1c51bb",
   "metadata": {},
   "outputs": [],
   "source": [
    "for i, val1 in enumerate(k2):\n",
    "    knn = KNeighborsClassifier(n_neighbors = val1, p = 1)\n",
    "    knn.fit(X_train, y_train)\n",
    "    ##this added to make the n_neighbor less than n_sample\n",
    "    y_pred = knn.predict(X_test)\n",
    "    train_score = knn.score(X_train,y_train)\n",
    "    test_score = knn.score(X_test,y_test)\n",
    "    train_score2 = 1 - train_score\n",
    "    test_score2 = 1 - test_score\n",
    "    train_scores1.append(train_score2)\n",
    "    test_scores1.append(test_score2)\n",
    "    k3.append(val1)"
   ]
  },
  {
   "cell_type": "code",
   "execution_count": 54,
   "id": "717a4819",
   "metadata": {},
   "outputs": [
    {
     "data": {
      "text/plain": [
       "k              1.00\n",
       "test_error     0.11\n",
       "train_error    0.00\n",
       "Name: 0, dtype: float64"
      ]
     },
     "execution_count": 54,
     "metadata": {},
     "output_type": "execute_result"
    }
   ],
   "source": [
    "df6 = pd.DataFrame()\n",
    "df6 = df6.assign(k = k3,test_error = test_scores1, train_error = train_scores1)\n",
    "df6.loc[df6['test_error'].idxmin()]"
   ]
  },
  {
   "cell_type": "code",
   "execution_count": 55,
   "id": "b93fcadc",
   "metadata": {},
   "outputs": [
    {
     "data": {
      "text/html": [
       "<div>\n",
       "<style scoped>\n",
       "    .dataframe tbody tr th:only-of-type {\n",
       "        vertical-align: middle;\n",
       "    }\n",
       "\n",
       "    .dataframe tbody tr th {\n",
       "        vertical-align: top;\n",
       "    }\n",
       "\n",
       "    .dataframe thead th {\n",
       "        text-align: right;\n",
       "    }\n",
       "</style>\n",
       "<table border=\"1\" class=\"dataframe\">\n",
       "  <thead>\n",
       "    <tr style=\"text-align: right;\">\n",
       "      <th></th>\n",
       "      <th>k</th>\n",
       "      <th>test_error</th>\n",
       "      <th>train_error</th>\n",
       "    </tr>\n",
       "  </thead>\n",
       "  <tbody>\n",
       "    <tr>\n",
       "      <th>0</th>\n",
       "      <td>1</td>\n",
       "      <td>0.11</td>\n",
       "      <td>0.000000</td>\n",
       "    </tr>\n",
       "    <tr>\n",
       "      <th>1</th>\n",
       "      <td>6</td>\n",
       "      <td>0.11</td>\n",
       "      <td>0.138095</td>\n",
       "    </tr>\n",
       "    <tr>\n",
       "      <th>2</th>\n",
       "      <td>11</td>\n",
       "      <td>0.11</td>\n",
       "      <td>0.142857</td>\n",
       "    </tr>\n",
       "    <tr>\n",
       "      <th>5</th>\n",
       "      <td>26</td>\n",
       "      <td>0.11</td>\n",
       "      <td>0.166667</td>\n",
       "    </tr>\n",
       "  </tbody>\n",
       "</table>\n",
       "</div>"
      ],
      "text/plain": [
       "    k  test_error  train_error\n",
       "0   1        0.11     0.000000\n",
       "1   6        0.11     0.138095\n",
       "2  11        0.11     0.142857\n",
       "5  26        0.11     0.166667"
      ]
     },
     "execution_count": 55,
     "metadata": {},
     "output_type": "execute_result"
    }
   ],
   "source": [
    "df13 = df6[round(df6['test_error'],2) == 0.11]\n",
    "df13"
   ]
  },
  {
   "cell_type": "code",
   "execution_count": 56,
   "id": "d92b8eb4",
   "metadata": {},
   "outputs": [
    {
     "data": {
      "text/html": [
       "<div>\n",
       "<style scoped>\n",
       "    .dataframe tbody tr th:only-of-type {\n",
       "        vertical-align: middle;\n",
       "    }\n",
       "\n",
       "    .dataframe tbody tr th {\n",
       "        vertical-align: top;\n",
       "    }\n",
       "\n",
       "    .dataframe thead th {\n",
       "        text-align: right;\n",
       "    }\n",
       "</style>\n",
       "<table border=\"1\" class=\"dataframe\">\n",
       "  <thead>\n",
       "    <tr style=\"text-align: right;\">\n",
       "      <th></th>\n",
       "      <th>k</th>\n",
       "      <th>test_error</th>\n",
       "      <th>train_error</th>\n",
       "    </tr>\n",
       "  </thead>\n",
       "  <tbody>\n",
       "    <tr>\n",
       "      <th>1</th>\n",
       "      <td>6</td>\n",
       "      <td>0.11</td>\n",
       "      <td>0.138095</td>\n",
       "    </tr>\n",
       "  </tbody>\n",
       "</table>\n",
       "</div>"
      ],
      "text/plain": [
       "   k  test_error  train_error\n",
       "1  6        0.11     0.138095"
      ]
     },
     "execution_count": 56,
     "metadata": {},
     "output_type": "execute_result"
    }
   ],
   "source": [
    "df13[df13['train_error'] == df13['train_error'].nsmallest(2).iloc[-1] ]"
   ]
  },
  {
   "cell_type": "markdown",
   "id": "211b4b98",
   "metadata": {},
   "source": [
    "### The table shown above is the smallest test error with corresponding K, I didn't pick the k=1 due to concerns of overfitting"
   ]
  },
  {
   "cell_type": "markdown",
   "id": "4532ccfb",
   "metadata": {},
   "source": [
    "## B. with log10(p) ∈ {0.1,0.2,0.3,...,1}. In this case, use the k∗ you found for the Manhattan distance in 1(d)iA. What is the best log10(p)?"
   ]
  },
  {
   "cell_type": "code",
   "execution_count": 57,
   "id": "47e156eb",
   "metadata": {},
   "outputs": [],
   "source": [
    "import math "
   ]
  },
  {
   "cell_type": "code",
   "execution_count": 58,
   "id": "af0338ae",
   "metadata": {
    "scrolled": true
   },
   "outputs": [],
   "source": [
    "N2 = np.linspace(0.1,1,10)\n",
    "N3 = pow(10,N2)"
   ]
  },
  {
   "cell_type": "code",
   "execution_count": 59,
   "id": "10346e74",
   "metadata": {},
   "outputs": [],
   "source": [
    "train_scores3 = []\n",
    "test_scores3 = []\n",
    "log = []"
   ]
  },
  {
   "cell_type": "code",
   "execution_count": 60,
   "id": "ad234b31",
   "metadata": {},
   "outputs": [],
   "source": [
    "# k = 1 for set in N2\n",
    "for i, val2 in enumerate(N3):\n",
    "    knn = KNeighborsClassifier(n_neighbors = 6, p = val2)\n",
    "    knn.fit(X_train, y_train)\n",
    "    ##this added to make the n_neighbor less than n_sample\n",
    "    y_pred = knn.predict(X_test)\n",
    "    train_score = knn.score(X_train,y_train)\n",
    "    test_score = knn.score(X_test,y_test)\n",
    "    train_score4 = 1 - train_score\n",
    "    test_score4 = 1 - test_score\n",
    "    train_scores3.append(train_score4)\n",
    "    test_scores3.append(test_score4)\n",
    "    log.append(val2)"
   ]
  },
  {
   "cell_type": "code",
   "execution_count": 61,
   "id": "23a823a6",
   "metadata": {},
   "outputs": [
    {
     "data": {
      "text/html": [
       "<div>\n",
       "<style scoped>\n",
       "    .dataframe tbody tr th:only-of-type {\n",
       "        vertical-align: middle;\n",
       "    }\n",
       "\n",
       "    .dataframe tbody tr th {\n",
       "        vertical-align: top;\n",
       "    }\n",
       "\n",
       "    .dataframe thead th {\n",
       "        text-align: right;\n",
       "    }\n",
       "</style>\n",
       "<table border=\"1\" class=\"dataframe\">\n",
       "  <thead>\n",
       "    <tr style=\"text-align: right;\">\n",
       "      <th></th>\n",
       "      <th>p</th>\n",
       "      <th>test_error</th>\n",
       "    </tr>\n",
       "  </thead>\n",
       "  <tbody>\n",
       "    <tr>\n",
       "      <th>0</th>\n",
       "      <td>0.1</td>\n",
       "      <td>0.09</td>\n",
       "    </tr>\n",
       "    <tr>\n",
       "      <th>1</th>\n",
       "      <td>0.2</td>\n",
       "      <td>0.09</td>\n",
       "    </tr>\n",
       "    <tr>\n",
       "      <th>2</th>\n",
       "      <td>0.3</td>\n",
       "      <td>0.08</td>\n",
       "    </tr>\n",
       "    <tr>\n",
       "      <th>3</th>\n",
       "      <td>0.4</td>\n",
       "      <td>0.08</td>\n",
       "    </tr>\n",
       "    <tr>\n",
       "      <th>4</th>\n",
       "      <td>0.5</td>\n",
       "      <td>0.08</td>\n",
       "    </tr>\n",
       "    <tr>\n",
       "      <th>5</th>\n",
       "      <td>0.6</td>\n",
       "      <td>0.06</td>\n",
       "    </tr>\n",
       "    <tr>\n",
       "      <th>6</th>\n",
       "      <td>0.7</td>\n",
       "      <td>0.07</td>\n",
       "    </tr>\n",
       "    <tr>\n",
       "      <th>7</th>\n",
       "      <td>0.8</td>\n",
       "      <td>0.08</td>\n",
       "    </tr>\n",
       "    <tr>\n",
       "      <th>8</th>\n",
       "      <td>0.9</td>\n",
       "      <td>0.09</td>\n",
       "    </tr>\n",
       "    <tr>\n",
       "      <th>9</th>\n",
       "      <td>1.0</td>\n",
       "      <td>0.09</td>\n",
       "    </tr>\n",
       "  </tbody>\n",
       "</table>\n",
       "</div>"
      ],
      "text/plain": [
       "     p  test_error\n",
       "0  0.1        0.09\n",
       "1  0.2        0.09\n",
       "2  0.3        0.08\n",
       "3  0.4        0.08\n",
       "4  0.5        0.08\n",
       "5  0.6        0.06\n",
       "6  0.7        0.07\n",
       "7  0.8        0.08\n",
       "8  0.9        0.09\n",
       "9  1.0        0.09"
      ]
     },
     "execution_count": 61,
     "metadata": {},
     "output_type": "execute_result"
    }
   ],
   "source": [
    "df7 = pd.DataFrame()\n",
    "df7 = df7.assign(p = N2, test_error = test_scores3)\n",
    "df7"
   ]
  },
  {
   "cell_type": "code",
   "execution_count": 62,
   "id": "310a30bf",
   "metadata": {},
   "outputs": [
    {
     "data": {
      "text/plain": [
       "p             0.60\n",
       "test_error    0.06\n",
       "Name: 5, dtype: float64"
      ]
     },
     "execution_count": 62,
     "metadata": {},
     "output_type": "execute_result"
    }
   ],
   "source": [
    "df7.loc[df7['test_error'].idxmin()]"
   ]
  },
  {
   "cell_type": "markdown",
   "id": "759f12f2",
   "metadata": {},
   "source": [
    "### The above show the smallest test error with corresponding K for log(10)p"
   ]
  },
  {
   "cell_type": "markdown",
   "id": "0e66dbe8",
   "metadata": {},
   "source": [
    "## C. which becomes Chebyshev Distance with p → ∞"
   ]
  },
  {
   "cell_type": "code",
   "execution_count": 63,
   "id": "c5e7ec6f",
   "metadata": {},
   "outputs": [],
   "source": [
    "train_scores4 = []\n",
    "test_scores4 = []\n",
    "k4 = []"
   ]
  },
  {
   "cell_type": "code",
   "execution_count": 64,
   "id": "e6eef35f",
   "metadata": {},
   "outputs": [],
   "source": [
    "# k = 1 for p = inf\n",
    "for i, val3 in enumerate(k2):\n",
    "    knn = KNeighborsClassifier(n_neighbors = val3, metric = 'chebyshev')\n",
    "    knn.fit(X_train, y_train)\n",
    "    ##this added to make the n_neighbor less than n_sample\n",
    "    y_pred = knn.predict(X_test)\n",
    "    train_score = knn.score(X_train,y_train)\n",
    "    test_score = knn.score(X_test,y_test)\n",
    "    train_score5 = 1 - train_score\n",
    "    test_score5 = 1 - test_score\n",
    "    train_scores4.append(train_score5)\n",
    "    test_scores4.append(test_score5)\n",
    "    k4.append(val3)"
   ]
  },
  {
   "cell_type": "code",
   "execution_count": 65,
   "id": "b10ef5fa",
   "metadata": {},
   "outputs": [
    {
     "data": {
      "text/plain": [
       "k             16.00\n",
       "test_error     0.08\n",
       "Name: 3, dtype: float64"
      ]
     },
     "execution_count": 65,
     "metadata": {},
     "output_type": "execute_result"
    }
   ],
   "source": [
    "df8 = pd.DataFrame()\n",
    "df8 = df8.assign(k = k4, test_error = test_scores4)\n",
    "df8.loc[df8['test_error'].idxmin()]"
   ]
  },
  {
   "cell_type": "markdown",
   "id": "2f86c497",
   "metadata": {},
   "source": [
    "### The above show the smallest test error with corresponding K for Chebyshev"
   ]
  },
  {
   "cell_type": "markdown",
   "id": "adf7aeb8",
   "metadata": {},
   "source": [
    "## ii. Mahalanobis Distance"
   ]
  },
  {
   "cell_type": "code",
   "execution_count": 66,
   "id": "1099d1c0",
   "metadata": {},
   "outputs": [],
   "source": [
    "train_scores5 = []\n",
    "test_scores5 = []\n",
    "k5 = []"
   ]
  },
  {
   "cell_type": "code",
   "execution_count": null,
   "id": "abcf2862",
   "metadata": {},
   "outputs": [],
   "source": []
  },
  {
   "cell_type": "code",
   "execution_count": 67,
   "id": "230d2ddd",
   "metadata": {},
   "outputs": [
    {
     "data": {
      "text/plain": [
       "pandas.core.frame.DataFrame"
      ]
     },
     "execution_count": 67,
     "metadata": {},
     "output_type": "execute_result"
    }
   ],
   "source": [
    "type(X_train)"
   ]
  },
  {
   "cell_type": "code",
   "execution_count": 68,
   "id": "3f9c1b77",
   "metadata": {},
   "outputs": [
    {
     "data": {
      "text/plain": [
       "array([[ 4.41757190e+12, -4.41757190e+12, -2.03462148e+02,\n",
       "        -4.41757190e+12, -9.08742736e+01, -3.49650821e+00],\n",
       "       [-4.41757190e+12,  4.41757190e+12,  2.03456737e+02,\n",
       "         4.41757190e+12,  9.08758269e+01,  3.49485812e+00],\n",
       "       [-2.03462112e+02,  2.03456701e+02,  8.04108758e-03,\n",
       "         2.03454746e+02, -1.81344606e-03,  3.60057009e-04],\n",
       "       [-4.41757190e+12,  4.41757190e+12,  2.03454783e+02,\n",
       "         4.41757190e+12,  9.08786043e+01,  3.49408117e+00],\n",
       "       [-9.08741656e+01,  9.08757189e+01, -1.81344606e-03,\n",
       "         9.08784963e+01,  8.78435158e-03, -6.61909457e-04],\n",
       "       [-3.49637958e+00,  3.49472949e+00,  3.60057009e-04,\n",
       "         3.49395254e+00, -6.61909457e-04,  1.17556888e-03]])"
      ]
     },
     "execution_count": 68,
     "metadata": {},
     "output_type": "execute_result"
    }
   ],
   "source": [
    "np.linalg.inv(np.cov(X_train, rowvar = False))"
   ]
  },
  {
   "cell_type": "code",
   "execution_count": 69,
   "id": "b6e6b43f",
   "metadata": {},
   "outputs": [],
   "source": [
    "d = np.linalg.inv(np.cov(X_train, rowvar = False))\n",
    "d = d.tolist()"
   ]
  },
  {
   "cell_type": "code",
   "execution_count": 70,
   "id": "6055bee0",
   "metadata": {},
   "outputs": [],
   "source": [
    "for i, val3 in enumerate(k2):\n",
    "    knn = KNeighborsClassifier(n_neighbors = val3, metric = 'mahalanobis',\n",
    "                               metric_params = {'VI': np.linalg.inv(np.cov(X_train, rowvar = False))\n",
    "                                               ,'V': np.cov(X_train, rowvar= False)})\n",
    "    knn.fit(X_train, y_train)\n",
    "    y_pred = knn.predict(X_test)\n",
    "    train_score = knn.score(X_train,y_train)\n",
    "    test_score = knn.score(X_test,y_test)\n",
    "    train_score5 = 1 - train_score\n",
    "    test_score5 = 1 - test_score\n",
    "    train_scores5.append(train_score5)\n",
    "    test_scores5.append(test_score5)\n",
    "    k5.append(val3)"
   ]
  },
  {
   "cell_type": "code",
   "execution_count": 71,
   "id": "744a8507",
   "metadata": {},
   "outputs": [
    {
     "data": {
      "text/plain": [
       "k              1.00\n",
       "test_error     0.15\n",
       "train_error    0.00\n",
       "Name: 0, dtype: float64"
      ]
     },
     "execution_count": 71,
     "metadata": {},
     "output_type": "execute_result"
    }
   ],
   "source": [
    "df9 = pd.DataFrame()\n",
    "df9 = df9.assign(k = k5, test_error = test_scores5, train_error = train_scores5)\n",
    "df9.loc[df9['test_error'].idxmin()]"
   ]
  },
  {
   "cell_type": "markdown",
   "id": "ec2648a3",
   "metadata": {},
   "source": [
    "### The above show the smallest test error with corresponding K for Mahalanobis "
   ]
  },
  {
   "cell_type": "markdown",
   "id": "97aa43d7",
   "metadata": {},
   "source": [
    "## (e) The majority polling decision can be replaced by weighted decision, in which the weight of each point in voting is inversely proportional to its distance from the query/test data point. In this case, closer neighbors of a query point will have a greater influence than neighbors which are further away. Use weighted voting with Euclidean, Manhattan, and Chebyshev distances and report the best test errors when k ∈ {1,6,11,16,...,196}."
   ]
  },
  {
   "cell_type": "code",
   "execution_count": 72,
   "id": "405d2980",
   "metadata": {},
   "outputs": [],
   "source": [
    "train_scores6 = []\n",
    "test_scores6 = []\n",
    "k6 = []"
   ]
  },
  {
   "cell_type": "code",
   "execution_count": 73,
   "id": "22e46867",
   "metadata": {},
   "outputs": [],
   "source": [
    "train_scores7 = []\n",
    "test_scores7 = []\n",
    "k7 = []"
   ]
  },
  {
   "cell_type": "code",
   "execution_count": 74,
   "id": "0d1c552c",
   "metadata": {},
   "outputs": [],
   "source": [
    "train_scores8 = []\n",
    "test_scores8 = []\n",
    "k8 = []"
   ]
  },
  {
   "cell_type": "code",
   "execution_count": 75,
   "id": "a1bd158a",
   "metadata": {},
   "outputs": [],
   "source": [
    "for i, val in enumerate(k2):\n",
    "    knn = KNeighborsClassifier(n_neighbors = val, metric = 'euclidean', weights ='distance')\n",
    "    knn.fit(X_train, y_train)\n",
    "    y_pred = knn.predict(X_test)\n",
    "    train_score = knn.score(X_train,y_train)\n",
    "    test_score = knn.score(X_test,y_test)\n",
    "    train_score1 = 1 - train_score\n",
    "    test_score1 = 1 - test_score\n",
    "    train_scores6.append(train_score1)\n",
    "    test_scores6.append(test_score1)\n",
    "    k6.append(val)"
   ]
  },
  {
   "cell_type": "code",
   "execution_count": 76,
   "id": "61a6636b",
   "metadata": {},
   "outputs": [
    {
     "data": {
      "text/plain": [
       "k              6.0\n",
       "test_error     0.1\n",
       "train_error    0.0\n",
       "Name: 1, dtype: float64"
      ]
     },
     "execution_count": 76,
     "metadata": {},
     "output_type": "execute_result"
    }
   ],
   "source": [
    "df10 = pd.DataFrame()\n",
    "df10 = df10.assign(k = k6, test_error = test_scores6, train_error = train_scores6)\n",
    "df10 = df10.loc[df10['test_error'].idxmin()]\n",
    "df10"
   ]
  },
  {
   "cell_type": "code",
   "execution_count": 77,
   "id": "cdec65c9",
   "metadata": {},
   "outputs": [],
   "source": [
    "for i, val in enumerate(k2):\n",
    "    knn = KNeighborsClassifier(n_neighbors = val, p = 1 , weights ='distance')\n",
    "    knn.fit(X_train, y_train)\n",
    "    y_pred = knn.predict(X_test)\n",
    "    train_score = knn.score(X_train,y_train)\n",
    "    test_score = knn.score(X_test,y_test)\n",
    "    train_score1 = 1 - train_score\n",
    "    test_score1 = 1 - test_score\n",
    "    train_scores7.append(train_score1)\n",
    "    test_scores7.append(test_score1)\n",
    "    k7.append(val)"
   ]
  },
  {
   "cell_type": "code",
   "execution_count": 78,
   "id": "c502d110",
   "metadata": {},
   "outputs": [
    {
     "data": {
      "text/plain": [
       "k              26.0\n",
       "test_error      0.1\n",
       "train_error     0.0\n",
       "Name: 5, dtype: float64"
      ]
     },
     "execution_count": 78,
     "metadata": {},
     "output_type": "execute_result"
    }
   ],
   "source": [
    "df11 = pd.DataFrame()\n",
    "df11 = df11.assign(k = k7, test_error = test_scores7, train_error = train_scores7)\n",
    "df11 = df11.loc[df11['test_error'].idxmin()]\n",
    "df11"
   ]
  },
  {
   "cell_type": "code",
   "execution_count": 79,
   "id": "f6ed1051",
   "metadata": {},
   "outputs": [],
   "source": [
    "for i, val in enumerate(k2):\n",
    "    knn = KNeighborsClassifier(n_neighbors = val, metric = 'chebyshev' , weights ='distance')\n",
    "    knn.fit(X_train, y_train)\n",
    "    y_pred = knn.predict(X_test)\n",
    "    train_score = knn.score(X_train,y_train)\n",
    "    test_score = knn.score(X_test,y_test)\n",
    "    train_score1 = 1 - train_score\n",
    "    test_score1 = 1 - test_score\n",
    "    train_scores8.append(train_score1)\n",
    "    test_scores8.append(test_score1)\n",
    "    k8.append(val)"
   ]
  },
  {
   "cell_type": "code",
   "execution_count": 80,
   "id": "5364dfc0",
   "metadata": {},
   "outputs": [
    {
     "data": {
      "text/plain": [
       "k              16.00\n",
       "test_error      0.11\n",
       "train_error     0.00\n",
       "Name: 3, dtype: float64"
      ]
     },
     "execution_count": 80,
     "metadata": {},
     "output_type": "execute_result"
    }
   ],
   "source": [
    "df12 = pd.DataFrame()\n",
    "df12 = df12.assign(k = k8, test_error = test_scores8, train_error = train_scores8)\n",
    "df12 = df12.loc[df12['test_error'].idxmin()]\n",
    "df12"
   ]
  },
  {
   "cell_type": "code",
   "execution_count": 81,
   "id": "ea1890ab",
   "metadata": {},
   "outputs": [],
   "source": [
    "df14 = pd.DataFrame()"
   ]
  },
  {
   "cell_type": "code",
   "execution_count": 82,
   "id": "b02fad40",
   "metadata": {},
   "outputs": [
    {
     "data": {
      "text/html": [
       "<div>\n",
       "<style scoped>\n",
       "    .dataframe tbody tr th:only-of-type {\n",
       "        vertical-align: middle;\n",
       "    }\n",
       "\n",
       "    .dataframe tbody tr th {\n",
       "        vertical-align: top;\n",
       "    }\n",
       "\n",
       "    .dataframe thead th {\n",
       "        text-align: right;\n",
       "    }\n",
       "</style>\n",
       "<table border=\"1\" class=\"dataframe\">\n",
       "  <thead>\n",
       "    <tr style=\"text-align: right;\">\n",
       "      <th></th>\n",
       "      <th>k</th>\n",
       "      <th>test_error</th>\n",
       "      <th>train_error</th>\n",
       "    </tr>\n",
       "  </thead>\n",
       "  <tbody>\n",
       "    <tr>\n",
       "      <th>Euclidean</th>\n",
       "      <td>6.0</td>\n",
       "      <td>0.10</td>\n",
       "      <td>0.0</td>\n",
       "    </tr>\n",
       "    <tr>\n",
       "      <th>Manhattan</th>\n",
       "      <td>26.0</td>\n",
       "      <td>0.10</td>\n",
       "      <td>0.0</td>\n",
       "    </tr>\n",
       "    <tr>\n",
       "      <th>Chebyshev</th>\n",
       "      <td>16.0</td>\n",
       "      <td>0.11</td>\n",
       "      <td>0.0</td>\n",
       "    </tr>\n",
       "  </tbody>\n",
       "</table>\n",
       "</div>"
      ],
      "text/plain": [
       "              k  test_error  train_error\n",
       "Euclidean   6.0        0.10          0.0\n",
       "Manhattan  26.0        0.10          0.0\n",
       "Chebyshev  16.0        0.11          0.0"
      ]
     },
     "execution_count": 82,
     "metadata": {},
     "output_type": "execute_result"
    }
   ],
   "source": [
    "df14 = df14.assign(Euclidean = df10, Manhattan = df11, Chebyshev= df12)\n",
    "df14.transpose()"
   ]
  },
  {
   "cell_type": "markdown",
   "id": "6051113e",
   "metadata": {},
   "source": [
    "### The above table summarize three different metrics for their k and test_error"
   ]
  },
  {
   "cell_type": "markdown",
   "id": "a43345a5",
   "metadata": {},
   "source": [
    "## (f) What is the lowest training error rate you achieved in this homework?"
   ]
  },
  {
   "cell_type": "markdown",
   "id": "db92187b",
   "metadata": {},
   "source": [
    "## The lowest training error rate I have achieved in this homework is 0"
   ]
  }
 ],
 "metadata": {
  "kernelspec": {
   "display_name": "Python 3",
   "language": "python",
   "name": "python3"
  },
  "language_info": {
   "codemirror_mode": {
    "name": "ipython",
    "version": 3
   },
   "file_extension": ".py",
   "mimetype": "text/x-python",
   "name": "python",
   "nbconvert_exporter": "python",
   "pygments_lexer": "ipython3",
   "version": "3.8.8"
  }
 },
 "nbformat": 4,
 "nbformat_minor": 5
}
